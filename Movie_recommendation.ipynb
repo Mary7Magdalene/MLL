{
  "nbformat": 4,
  "nbformat_minor": 0,
  "metadata": {
    "colab": {
      "provenance": [],
      "authorship_tag": "ABX9TyNL4xauEeoit4lx4g1TJ3Cm",
      "include_colab_link": true
    },
    "kernelspec": {
      "name": "python3",
      "display_name": "Python 3"
    },
    "language_info": {
      "name": "python"
    }
  },
  "cells": [
    {
      "cell_type": "markdown",
      "metadata": {
        "id": "view-in-github",
        "colab_type": "text"
      },
      "source": [
        "<a href=\"https://colab.research.google.com/github/Mary7Magdalene/MLL/blob/main/Movie_recommendation.ipynb\" target=\"_parent\"><img src=\"https://colab.research.google.com/assets/colab-badge.svg\" alt=\"Open In Colab\"/></a>"
      ]
    },
    {
      "cell_type": "markdown",
      "source": [
        "Types of movie recommendation systems\n",
        "\n",
        "\n",
        "*  Content based recommendation systems- recommends movies to a user based on the movies they have watched before\n",
        "*  Popularity based recommendation systems - recommends movies which have been popular to the user.\n",
        "\n",
        "\n",
        "*  colaborative recommendation systems- groups people based on their watching pattern.\n",
        "\n",
        "\n",
        "\n"
      ],
      "metadata": {
        "id": "t9koq23hlmau"
      }
    },
    {
      "cell_type": "code",
      "execution_count": 3,
      "metadata": {
        "id": "x5L3muwllPzV"
      },
      "outputs": [],
      "source": [
        "#importing dependancies\n",
        "import numpy as np\n",
        "import pandas as pd\n",
        "import difflib\n",
        "from sklearn.feature_extraction.text import TfidfVectorizer\n",
        "from sklearn.metrics.pairwise import cosine_similarity"
      ]
    },
    {
      "cell_type": "markdown",
      "source": [
        "#data collection and\n"
      ],
      "metadata": {
        "id": "aEr-pw1rpmNa"
      }
    },
    {
      "cell_type": "code",
      "source": [
        "#loading the movies data from a csv into a pandas datadframe\n",
        "#loading the movies data from a csv into a pandas datadframe\n",
        "# Adding on_bad_lines=False to skip problematic rows\n",
        "# and engine='python' to use the Python parser instead of the C parser\n",
        "movies_data = pd.read_csv('/content/movies.csv',\n",
        "                          on_bad_lines = 'skip',\n",
        "                          engine = 'python')"
      ],
      "metadata": {
        "id": "r_a4hzEHpbMC"
      },
      "execution_count": 10,
      "outputs": []
    },
    {
      "cell_type": "code",
      "source": [
        "#printing the first five rows of the dataframe\n",
        "movies_data.head()"
      ],
      "metadata": {
        "colab": {
          "base_uri": "https://localhost:8080/",
          "height": 794
        },
        "id": "-iueznwsqgtU",
        "outputId": "d494acc2-15f3-47c6-e1bf-7463db87954c"
      },
      "execution_count": 12,
      "outputs": [
        {
          "output_type": "execute_result",
          "data": {
            "text/plain": [
              "   index     budget                                    genres  \\\n",
              "0      0  237000000  Action Adventure Fantasy Science Fiction   \n",
              "1      1  300000000                  Adventure Fantasy Action   \n",
              "2      2  245000000                    Action Adventure Crime   \n",
              "3      3  250000000               Action Crime Drama Thriller   \n",
              "4      4  260000000          Action Adventure Science Fiction   \n",
              "\n",
              "                                       homepage      id  \\\n",
              "0                   http://www.avatarmovie.com/   19995   \n",
              "1  http://disney.go.com/disneypictures/pirates/     285   \n",
              "2   http://www.sonypictures.com/movies/spectre/  206647   \n",
              "3            http://www.thedarkknightrises.com/   49026   \n",
              "4          http://movies.disney.com/john-carter   49529   \n",
              "\n",
              "                                            keywords original_language  \\\n",
              "0  culture clash future space war space colony so...                en   \n",
              "1  ocean drug abuse exotic island east india trad...                en   \n",
              "2         spy based on novel secret agent sequel mi6                en   \n",
              "3  dc comics crime fighter terrorist secret ident...                en   \n",
              "4  based on novel mars medallion space travel pri...                en   \n",
              "\n",
              "                             original_title  \\\n",
              "0                                    Avatar   \n",
              "1  Pirates of the Caribbean: At World's End   \n",
              "2                                   Spectre   \n",
              "3                     The Dark Knight Rises   \n",
              "4                               John Carter   \n",
              "\n",
              "                                            overview  popularity  ... runtime  \\\n",
              "0  In the 22nd century, a paraplegic Marine is di...  150.437577  ...   162.0   \n",
              "1  Captain Barbossa, long believed to be dead, ha...  139.082615  ...   169.0   \n",
              "2  A cryptic message from Bond’s past sends him o...  107.376788  ...   148.0   \n",
              "3  Following the death of District Attorney Harve...  112.312950  ...   165.0   \n",
              "4  John Carter is a war-weary, former military ca...   43.926995  ...   132.0   \n",
              "\n",
              "                                    spoken_languages    status  \\\n",
              "0  [{\"iso_639_1\": \"en\", \"name\": \"English\"}, {\"iso...  Released   \n",
              "1           [{\"iso_639_1\": \"en\", \"name\": \"English\"}]  Released   \n",
              "2  [{\"iso_639_1\": \"fr\", \"name\": \"Fran\\u00e7ais\"},...  Released   \n",
              "3           [{\"iso_639_1\": \"en\", \"name\": \"English\"}]  Released   \n",
              "4           [{\"iso_639_1\": \"en\", \"name\": \"English\"}]  Released   \n",
              "\n",
              "                                          tagline  \\\n",
              "0                     Enter the World of Pandora.   \n",
              "1  At the end of the world, the adventure begins.   \n",
              "2                           A Plan No One Escapes   \n",
              "3                                 The Legend Ends   \n",
              "4            Lost in our world, found in another.   \n",
              "\n",
              "                                      title vote_average vote_count  \\\n",
              "0                                    Avatar          7.2      11800   \n",
              "1  Pirates of the Caribbean: At World's End          6.9       4500   \n",
              "2                                   Spectre          6.3       4466   \n",
              "3                     The Dark Knight Rises          7.6       9106   \n",
              "4                               John Carter          6.1       2124   \n",
              "\n",
              "                                                cast  \\\n",
              "0  Sam Worthington Zoe Saldana Sigourney Weaver S...   \n",
              "1  Johnny Depp Orlando Bloom Keira Knightley Stel...   \n",
              "2  Daniel Craig Christoph Waltz L\\u00e9a Seydoux ...   \n",
              "3  Christian Bale Michael Caine Gary Oldman Anne ...   \n",
              "4  Taylor Kitsch Lynn Collins Samantha Morton Wil...   \n",
              "\n",
              "                                                crew           director  \n",
              "0  [{'name': 'Stephen E. Rivkin', 'gender': 0, 'd...      James Cameron  \n",
              "1  [{'name': 'Dariusz Wolski', 'gender': 2, 'depa...     Gore Verbinski  \n",
              "2  [{'name': 'Thomas Newman', 'gender': 2, 'depar...         Sam Mendes  \n",
              "3  [{'name': 'Hans Zimmer', 'gender': 2, 'departm...  Christopher Nolan  \n",
              "4  [{'name': 'Andrew Stanton', 'gender': 2, 'depa...     Andrew Stanton  \n",
              "\n",
              "[5 rows x 24 columns]"
            ],
            "text/html": [
              "\n",
              "  <div id=\"df-ef15b4c7-6908-4902-99f3-efebc980dff0\" class=\"colab-df-container\">\n",
              "    <div>\n",
              "<style scoped>\n",
              "    .dataframe tbody tr th:only-of-type {\n",
              "        vertical-align: middle;\n",
              "    }\n",
              "\n",
              "    .dataframe tbody tr th {\n",
              "        vertical-align: top;\n",
              "    }\n",
              "\n",
              "    .dataframe thead th {\n",
              "        text-align: right;\n",
              "    }\n",
              "</style>\n",
              "<table border=\"1\" class=\"dataframe\">\n",
              "  <thead>\n",
              "    <tr style=\"text-align: right;\">\n",
              "      <th></th>\n",
              "      <th>index</th>\n",
              "      <th>budget</th>\n",
              "      <th>genres</th>\n",
              "      <th>homepage</th>\n",
              "      <th>id</th>\n",
              "      <th>keywords</th>\n",
              "      <th>original_language</th>\n",
              "      <th>original_title</th>\n",
              "      <th>overview</th>\n",
              "      <th>popularity</th>\n",
              "      <th>...</th>\n",
              "      <th>runtime</th>\n",
              "      <th>spoken_languages</th>\n",
              "      <th>status</th>\n",
              "      <th>tagline</th>\n",
              "      <th>title</th>\n",
              "      <th>vote_average</th>\n",
              "      <th>vote_count</th>\n",
              "      <th>cast</th>\n",
              "      <th>crew</th>\n",
              "      <th>director</th>\n",
              "    </tr>\n",
              "  </thead>\n",
              "  <tbody>\n",
              "    <tr>\n",
              "      <th>0</th>\n",
              "      <td>0</td>\n",
              "      <td>237000000</td>\n",
              "      <td>Action Adventure Fantasy Science Fiction</td>\n",
              "      <td>http://www.avatarmovie.com/</td>\n",
              "      <td>19995</td>\n",
              "      <td>culture clash future space war space colony so...</td>\n",
              "      <td>en</td>\n",
              "      <td>Avatar</td>\n",
              "      <td>In the 22nd century, a paraplegic Marine is di...</td>\n",
              "      <td>150.437577</td>\n",
              "      <td>...</td>\n",
              "      <td>162.0</td>\n",
              "      <td>[{\"iso_639_1\": \"en\", \"name\": \"English\"}, {\"iso...</td>\n",
              "      <td>Released</td>\n",
              "      <td>Enter the World of Pandora.</td>\n",
              "      <td>Avatar</td>\n",
              "      <td>7.2</td>\n",
              "      <td>11800</td>\n",
              "      <td>Sam Worthington Zoe Saldana Sigourney Weaver S...</td>\n",
              "      <td>[{'name': 'Stephen E. Rivkin', 'gender': 0, 'd...</td>\n",
              "      <td>James Cameron</td>\n",
              "    </tr>\n",
              "    <tr>\n",
              "      <th>1</th>\n",
              "      <td>1</td>\n",
              "      <td>300000000</td>\n",
              "      <td>Adventure Fantasy Action</td>\n",
              "      <td>http://disney.go.com/disneypictures/pirates/</td>\n",
              "      <td>285</td>\n",
              "      <td>ocean drug abuse exotic island east india trad...</td>\n",
              "      <td>en</td>\n",
              "      <td>Pirates of the Caribbean: At World's End</td>\n",
              "      <td>Captain Barbossa, long believed to be dead, ha...</td>\n",
              "      <td>139.082615</td>\n",
              "      <td>...</td>\n",
              "      <td>169.0</td>\n",
              "      <td>[{\"iso_639_1\": \"en\", \"name\": \"English\"}]</td>\n",
              "      <td>Released</td>\n",
              "      <td>At the end of the world, the adventure begins.</td>\n",
              "      <td>Pirates of the Caribbean: At World's End</td>\n",
              "      <td>6.9</td>\n",
              "      <td>4500</td>\n",
              "      <td>Johnny Depp Orlando Bloom Keira Knightley Stel...</td>\n",
              "      <td>[{'name': 'Dariusz Wolski', 'gender': 2, 'depa...</td>\n",
              "      <td>Gore Verbinski</td>\n",
              "    </tr>\n",
              "    <tr>\n",
              "      <th>2</th>\n",
              "      <td>2</td>\n",
              "      <td>245000000</td>\n",
              "      <td>Action Adventure Crime</td>\n",
              "      <td>http://www.sonypictures.com/movies/spectre/</td>\n",
              "      <td>206647</td>\n",
              "      <td>spy based on novel secret agent sequel mi6</td>\n",
              "      <td>en</td>\n",
              "      <td>Spectre</td>\n",
              "      <td>A cryptic message from Bond’s past sends him o...</td>\n",
              "      <td>107.376788</td>\n",
              "      <td>...</td>\n",
              "      <td>148.0</td>\n",
              "      <td>[{\"iso_639_1\": \"fr\", \"name\": \"Fran\\u00e7ais\"},...</td>\n",
              "      <td>Released</td>\n",
              "      <td>A Plan No One Escapes</td>\n",
              "      <td>Spectre</td>\n",
              "      <td>6.3</td>\n",
              "      <td>4466</td>\n",
              "      <td>Daniel Craig Christoph Waltz L\\u00e9a Seydoux ...</td>\n",
              "      <td>[{'name': 'Thomas Newman', 'gender': 2, 'depar...</td>\n",
              "      <td>Sam Mendes</td>\n",
              "    </tr>\n",
              "    <tr>\n",
              "      <th>3</th>\n",
              "      <td>3</td>\n",
              "      <td>250000000</td>\n",
              "      <td>Action Crime Drama Thriller</td>\n",
              "      <td>http://www.thedarkknightrises.com/</td>\n",
              "      <td>49026</td>\n",
              "      <td>dc comics crime fighter terrorist secret ident...</td>\n",
              "      <td>en</td>\n",
              "      <td>The Dark Knight Rises</td>\n",
              "      <td>Following the death of District Attorney Harve...</td>\n",
              "      <td>112.312950</td>\n",
              "      <td>...</td>\n",
              "      <td>165.0</td>\n",
              "      <td>[{\"iso_639_1\": \"en\", \"name\": \"English\"}]</td>\n",
              "      <td>Released</td>\n",
              "      <td>The Legend Ends</td>\n",
              "      <td>The Dark Knight Rises</td>\n",
              "      <td>7.6</td>\n",
              "      <td>9106</td>\n",
              "      <td>Christian Bale Michael Caine Gary Oldman Anne ...</td>\n",
              "      <td>[{'name': 'Hans Zimmer', 'gender': 2, 'departm...</td>\n",
              "      <td>Christopher Nolan</td>\n",
              "    </tr>\n",
              "    <tr>\n",
              "      <th>4</th>\n",
              "      <td>4</td>\n",
              "      <td>260000000</td>\n",
              "      <td>Action Adventure Science Fiction</td>\n",
              "      <td>http://movies.disney.com/john-carter</td>\n",
              "      <td>49529</td>\n",
              "      <td>based on novel mars medallion space travel pri...</td>\n",
              "      <td>en</td>\n",
              "      <td>John Carter</td>\n",
              "      <td>John Carter is a war-weary, former military ca...</td>\n",
              "      <td>43.926995</td>\n",
              "      <td>...</td>\n",
              "      <td>132.0</td>\n",
              "      <td>[{\"iso_639_1\": \"en\", \"name\": \"English\"}]</td>\n",
              "      <td>Released</td>\n",
              "      <td>Lost in our world, found in another.</td>\n",
              "      <td>John Carter</td>\n",
              "      <td>6.1</td>\n",
              "      <td>2124</td>\n",
              "      <td>Taylor Kitsch Lynn Collins Samantha Morton Wil...</td>\n",
              "      <td>[{'name': 'Andrew Stanton', 'gender': 2, 'depa...</td>\n",
              "      <td>Andrew Stanton</td>\n",
              "    </tr>\n",
              "  </tbody>\n",
              "</table>\n",
              "<p>5 rows × 24 columns</p>\n",
              "</div>\n",
              "    <div class=\"colab-df-buttons\">\n",
              "\n",
              "  <div class=\"colab-df-container\">\n",
              "    <button class=\"colab-df-convert\" onclick=\"convertToInteractive('df-ef15b4c7-6908-4902-99f3-efebc980dff0')\"\n",
              "            title=\"Convert this dataframe to an interactive table.\"\n",
              "            style=\"display:none;\">\n",
              "\n",
              "  <svg xmlns=\"http://www.w3.org/2000/svg\" height=\"24px\" viewBox=\"0 -960 960 960\">\n",
              "    <path d=\"M120-120v-720h720v720H120Zm60-500h600v-160H180v160Zm220 220h160v-160H400v160Zm0 220h160v-160H400v160ZM180-400h160v-160H180v160Zm440 0h160v-160H620v160ZM180-180h160v-160H180v160Zm440 0h160v-160H620v160Z\"/>\n",
              "  </svg>\n",
              "    </button>\n",
              "\n",
              "  <style>\n",
              "    .colab-df-container {\n",
              "      display:flex;\n",
              "      gap: 12px;\n",
              "    }\n",
              "\n",
              "    .colab-df-convert {\n",
              "      background-color: #E8F0FE;\n",
              "      border: none;\n",
              "      border-radius: 50%;\n",
              "      cursor: pointer;\n",
              "      display: none;\n",
              "      fill: #1967D2;\n",
              "      height: 32px;\n",
              "      padding: 0 0 0 0;\n",
              "      width: 32px;\n",
              "    }\n",
              "\n",
              "    .colab-df-convert:hover {\n",
              "      background-color: #E2EBFA;\n",
              "      box-shadow: 0px 1px 2px rgba(60, 64, 67, 0.3), 0px 1px 3px 1px rgba(60, 64, 67, 0.15);\n",
              "      fill: #174EA6;\n",
              "    }\n",
              "\n",
              "    .colab-df-buttons div {\n",
              "      margin-bottom: 4px;\n",
              "    }\n",
              "\n",
              "    [theme=dark] .colab-df-convert {\n",
              "      background-color: #3B4455;\n",
              "      fill: #D2E3FC;\n",
              "    }\n",
              "\n",
              "    [theme=dark] .colab-df-convert:hover {\n",
              "      background-color: #434B5C;\n",
              "      box-shadow: 0px 1px 3px 1px rgba(0, 0, 0, 0.15);\n",
              "      filter: drop-shadow(0px 1px 2px rgba(0, 0, 0, 0.3));\n",
              "      fill: #FFFFFF;\n",
              "    }\n",
              "  </style>\n",
              "\n",
              "    <script>\n",
              "      const buttonEl =\n",
              "        document.querySelector('#df-ef15b4c7-6908-4902-99f3-efebc980dff0 button.colab-df-convert');\n",
              "      buttonEl.style.display =\n",
              "        google.colab.kernel.accessAllowed ? 'block' : 'none';\n",
              "\n",
              "      async function convertToInteractive(key) {\n",
              "        const element = document.querySelector('#df-ef15b4c7-6908-4902-99f3-efebc980dff0');\n",
              "        const dataTable =\n",
              "          await google.colab.kernel.invokeFunction('convertToInteractive',\n",
              "                                                    [key], {});\n",
              "        if (!dataTable) return;\n",
              "\n",
              "        const docLinkHtml = 'Like what you see? Visit the ' +\n",
              "          '<a target=\"_blank\" href=https://colab.research.google.com/notebooks/data_table.ipynb>data table notebook</a>'\n",
              "          + ' to learn more about interactive tables.';\n",
              "        element.innerHTML = '';\n",
              "        dataTable['output_type'] = 'display_data';\n",
              "        await google.colab.output.renderOutput(dataTable, element);\n",
              "        const docLink = document.createElement('div');\n",
              "        docLink.innerHTML = docLinkHtml;\n",
              "        element.appendChild(docLink);\n",
              "      }\n",
              "    </script>\n",
              "  </div>\n",
              "\n",
              "\n",
              "<div id=\"df-3b8c5684-0585-4f01-ae4a-171136ad5753\">\n",
              "  <button class=\"colab-df-quickchart\" onclick=\"quickchart('df-3b8c5684-0585-4f01-ae4a-171136ad5753')\"\n",
              "            title=\"Suggest charts\"\n",
              "            style=\"display:none;\">\n",
              "\n",
              "<svg xmlns=\"http://www.w3.org/2000/svg\" height=\"24px\"viewBox=\"0 0 24 24\"\n",
              "     width=\"24px\">\n",
              "    <g>\n",
              "        <path d=\"M19 3H5c-1.1 0-2 .9-2 2v14c0 1.1.9 2 2 2h14c1.1 0 2-.9 2-2V5c0-1.1-.9-2-2-2zM9 17H7v-7h2v7zm4 0h-2V7h2v10zm4 0h-2v-4h2v4z\"/>\n",
              "    </g>\n",
              "</svg>\n",
              "  </button>\n",
              "\n",
              "<style>\n",
              "  .colab-df-quickchart {\n",
              "      --bg-color: #E8F0FE;\n",
              "      --fill-color: #1967D2;\n",
              "      --hover-bg-color: #E2EBFA;\n",
              "      --hover-fill-color: #174EA6;\n",
              "      --disabled-fill-color: #AAA;\n",
              "      --disabled-bg-color: #DDD;\n",
              "  }\n",
              "\n",
              "  [theme=dark] .colab-df-quickchart {\n",
              "      --bg-color: #3B4455;\n",
              "      --fill-color: #D2E3FC;\n",
              "      --hover-bg-color: #434B5C;\n",
              "      --hover-fill-color: #FFFFFF;\n",
              "      --disabled-bg-color: #3B4455;\n",
              "      --disabled-fill-color: #666;\n",
              "  }\n",
              "\n",
              "  .colab-df-quickchart {\n",
              "    background-color: var(--bg-color);\n",
              "    border: none;\n",
              "    border-radius: 50%;\n",
              "    cursor: pointer;\n",
              "    display: none;\n",
              "    fill: var(--fill-color);\n",
              "    height: 32px;\n",
              "    padding: 0;\n",
              "    width: 32px;\n",
              "  }\n",
              "\n",
              "  .colab-df-quickchart:hover {\n",
              "    background-color: var(--hover-bg-color);\n",
              "    box-shadow: 0 1px 2px rgba(60, 64, 67, 0.3), 0 1px 3px 1px rgba(60, 64, 67, 0.15);\n",
              "    fill: var(--button-hover-fill-color);\n",
              "  }\n",
              "\n",
              "  .colab-df-quickchart-complete:disabled,\n",
              "  .colab-df-quickchart-complete:disabled:hover {\n",
              "    background-color: var(--disabled-bg-color);\n",
              "    fill: var(--disabled-fill-color);\n",
              "    box-shadow: none;\n",
              "  }\n",
              "\n",
              "  .colab-df-spinner {\n",
              "    border: 2px solid var(--fill-color);\n",
              "    border-color: transparent;\n",
              "    border-bottom-color: var(--fill-color);\n",
              "    animation:\n",
              "      spin 1s steps(1) infinite;\n",
              "  }\n",
              "\n",
              "  @keyframes spin {\n",
              "    0% {\n",
              "      border-color: transparent;\n",
              "      border-bottom-color: var(--fill-color);\n",
              "      border-left-color: var(--fill-color);\n",
              "    }\n",
              "    20% {\n",
              "      border-color: transparent;\n",
              "      border-left-color: var(--fill-color);\n",
              "      border-top-color: var(--fill-color);\n",
              "    }\n",
              "    30% {\n",
              "      border-color: transparent;\n",
              "      border-left-color: var(--fill-color);\n",
              "      border-top-color: var(--fill-color);\n",
              "      border-right-color: var(--fill-color);\n",
              "    }\n",
              "    40% {\n",
              "      border-color: transparent;\n",
              "      border-right-color: var(--fill-color);\n",
              "      border-top-color: var(--fill-color);\n",
              "    }\n",
              "    60% {\n",
              "      border-color: transparent;\n",
              "      border-right-color: var(--fill-color);\n",
              "    }\n",
              "    80% {\n",
              "      border-color: transparent;\n",
              "      border-right-color: var(--fill-color);\n",
              "      border-bottom-color: var(--fill-color);\n",
              "    }\n",
              "    90% {\n",
              "      border-color: transparent;\n",
              "      border-bottom-color: var(--fill-color);\n",
              "    }\n",
              "  }\n",
              "</style>\n",
              "\n",
              "  <script>\n",
              "    async function quickchart(key) {\n",
              "      const quickchartButtonEl =\n",
              "        document.querySelector('#' + key + ' button');\n",
              "      quickchartButtonEl.disabled = true;  // To prevent multiple clicks.\n",
              "      quickchartButtonEl.classList.add('colab-df-spinner');\n",
              "      try {\n",
              "        const charts = await google.colab.kernel.invokeFunction(\n",
              "            'suggestCharts', [key], {});\n",
              "      } catch (error) {\n",
              "        console.error('Error during call to suggestCharts:', error);\n",
              "      }\n",
              "      quickchartButtonEl.classList.remove('colab-df-spinner');\n",
              "      quickchartButtonEl.classList.add('colab-df-quickchart-complete');\n",
              "    }\n",
              "    (() => {\n",
              "      let quickchartButtonEl =\n",
              "        document.querySelector('#df-3b8c5684-0585-4f01-ae4a-171136ad5753 button');\n",
              "      quickchartButtonEl.style.display =\n",
              "        google.colab.kernel.accessAllowed ? 'block' : 'none';\n",
              "    })();\n",
              "  </script>\n",
              "</div>\n",
              "\n",
              "    </div>\n",
              "  </div>\n"
            ],
            "application/vnd.google.colaboratory.intrinsic+json": {
              "type": "dataframe",
              "variable_name": "movies_data"
            }
          },
          "metadata": {},
          "execution_count": 12
        }
      ]
    },
    {
      "cell_type": "code",
      "source": [
        "movies_data.shape"
      ],
      "metadata": {
        "id": "0Lzv8s-8syR4",
        "outputId": "b7aa4377-4673-4765-805b-ffb875af3fc4",
        "colab": {
          "base_uri": "https://localhost:8080/"
        }
      },
      "execution_count": 14,
      "outputs": [
        {
          "output_type": "execute_result",
          "data": {
            "text/plain": [
              "(533, 24)"
            ]
          },
          "metadata": {},
          "execution_count": 14
        }
      ]
    },
    {
      "cell_type": "code",
      "source": [
        "#selecting the relevant features for recommendation\n",
        "selected_features = ['genres', 'keywords','tagline','cast','director']\n",
        "print(selected_features)"
      ],
      "metadata": {
        "id": "x94PdiwdtTaH",
        "outputId": "72f6fb54-d6e6-496f-f55c-5aea0a79af5f",
        "colab": {
          "base_uri": "https://localhost:8080/"
        }
      },
      "execution_count": 15,
      "outputs": [
        {
          "output_type": "stream",
          "name": "stdout",
          "text": [
            "['genres', 'keywords', 'tagline', 'cast', 'director']\n"
          ]
        }
      ]
    },
    {
      "cell_type": "code",
      "source": [
        "#replacing the missing value with a null value\n",
        "for feature in selected_features:\n",
        "  movies_data[feature] = movies_data[feature].fillna('')"
      ],
      "metadata": {
        "id": "CaxCJtSBuNlk"
      },
      "execution_count": 16,
      "outputs": []
    },
    {
      "cell_type": "code",
      "source": [
        "#combining all the file of the selected feature\n",
        "combined_features = movies_data['genres'] +''+['keywords']+''+['tagline']+''+['cast']+''+['director']"
      ],
      "metadata": {
        "id": "F0OFjik8vozh"
      },
      "execution_count": 18,
      "outputs": []
    },
    {
      "cell_type": "code",
      "source": [
        "print(combined_features)"
      ],
      "metadata": {
        "id": "oF7UEACIwXJh",
        "outputId": "e741c212-eadd-49f7-ec5c-78a21bad0fad",
        "colab": {
          "base_uri": "https://localhost:8080/"
        }
      },
      "execution_count": 19,
      "outputs": [
        {
          "output_type": "stream",
          "name": "stdout",
          "text": [
            "0      Action Adventure Fantasy Science Fictionkeywor...\n",
            "1      Adventure Fantasy Actionkeywordstaglinecastdir...\n",
            "2      Action Adventure Crimekeywordstaglinecastdirector\n",
            "3      Action Crime Drama Thrillerkeywordstaglinecast...\n",
            "4      Action Adventure Science Fictionkeywordstaglin...\n",
            "                             ...                        \n",
            "528    Drama Action History Thrillerkeywordstaglineca...\n",
            "529          Action Drama Warkeywordstaglinecastdirector\n",
            "530    Action Comedy Thriller Romancekeywordstaglinec...\n",
            "531    Comedy Action Adventurekeywordstaglinecastdire...\n",
            "532                    Comedykeywordstaglinecastdirector\n",
            "Name: genres, Length: 533, dtype: object\n"
          ]
        }
      ]
    },
    {
      "cell_type": "code",
      "source": [
        "#converting the data into numerical value\n",
        "vectorizer = TfidfVectorizer()\n"
      ],
      "metadata": {
        "id": "0ByKpvpawhpk"
      },
      "execution_count": 20,
      "outputs": []
    },
    {
      "cell_type": "code",
      "source": [
        "feature_vectors = vectorizer.fit_transform(combined_features)"
      ],
      "metadata": {
        "id": "Tu-3OYYpwvAe"
      },
      "execution_count": 21,
      "outputs": []
    },
    {
      "cell_type": "code",
      "source": [
        "print(feature_vectors)"
      ],
      "metadata": {
        "id": "CrJW_gCtxUeT",
        "outputId": "f328feb1-af22-4ff5-bca1-ecbf6af6b95e",
        "colab": {
          "base_uri": "https://localhost:8080/"
        }
      },
      "execution_count": 22,
      "outputs": [
        {
          "output_type": "stream",
          "name": "stdout",
          "text": [
            "  (0, 0)\t0.3311328569296591\n",
            "  (0, 2)\t0.34995322139271795\n",
            "  (0, 15)\t0.5358818089571218\n",
            "  (0, 29)\t0.43993766326167955\n",
            "  (0, 18)\t0.5358818089571218\n",
            "  (1, 2)\t0.36149353100986076\n",
            "  (1, 15)\t0.5535534336644131\n",
            "  (1, 1)\t0.7502673011109845\n",
            "  (2, 0)\t0.34322342308394566\n",
            "  (2, 2)\t0.362730970521531\n",
            "  (2, 9)\t0.8663855520904347\n",
            "  (3, 0)\t0.30596869874510213\n",
            "  (3, 8)\t0.6553544116788055\n",
            "  (3, 11)\t0.48342479484710527\n",
            "  (3, 31)\t0.4931472581373539\n",
            "  (4, 0)\t0.3922013483302794\n",
            "  (4, 2)\t0.41449261953459526\n",
            "  (4, 29)\t0.5210722557476555\n",
            "  (4, 18)\t0.6347107018235236\n",
            "  (5, 0)\t0.3649218838290571\n",
            "  (5, 15)\t0.5905635612472504\n",
            "  (5, 3)\t0.7197685036382302\n",
            "  (6, 4)\t0.6738790258555567\n",
            "  (6, 14)\t0.7388417005773064\n",
            "  (7, 0)\t0.3922013483302794\n",
            "  :\t:\n",
            "  (524, 11)\t0.41354882392683834\n",
            "  (524, 6)\t0.3829067755737166\n",
            "  (524, 20)\t0.826050707552792\n",
            "  (525, 0)\t0.3368206028420484\n",
            "  (525, 4)\t0.5406846338065706\n",
            "  (525, 14)\t0.5928072235376143\n",
            "  (525, 6)\t0.4927388801263796\n",
            "  (526, 12)\t1.0\n",
            "  (527, 9)\t0.8652036256483657\n",
            "  (527, 6)\t0.5014206678677323\n",
            "  (528, 0)\t0.27937217240146683\n",
            "  (528, 11)\t0.4414027829744828\n",
            "  (528, 31)\t0.45028011487683234\n",
            "  (528, 19)\t0.7241288494574522\n",
            "  (529, 0)\t0.30361753337359293\n",
            "  (529, 11)\t0.47970999773865874\n",
            "  (529, 33)\t0.8232221519721825\n",
            "  (530, 0)\t0.29384616459303614\n",
            "  (530, 30)\t0.5327793564033648\n",
            "  (530, 6)\t0.4298710614769111\n",
            "  (530, 28)\t0.6670917923712542\n",
            "  (531, 0)\t0.37714544485757795\n",
            "  (531, 3)\t0.7438781408523975\n",
            "  (531, 6)\t0.5517305728207931\n",
            "  (532, 7)\t1.0\n"
          ]
        }
      ]
    },
    {
      "cell_type": "code",
      "source": [
        "similarity = cosine_similarity(feature_vectors)"
      ],
      "metadata": {
        "id": "MUey2A8wxXpM"
      },
      "execution_count": 25,
      "outputs": []
    },
    {
      "cell_type": "code",
      "source": [
        "print(similarity)"
      ],
      "metadata": {
        "id": "KM_QryqXx6KA",
        "outputId": "47e9d0c8-ab15-4aca-d3eb-83b6a4014e8f",
        "colab": {
          "base_uri": "https://localhost:8080/"
        }
      },
      "execution_count": 26,
      "outputs": [
        {
          "output_type": "stream",
          "name": "stdout",
          "text": [
            "[[1.         0.42314504 0.24059142 ... 0.09730212 0.12488525 0.        ]\n",
            " [0.42314504 1.         0.1311249  ... 0.         0.         0.        ]\n",
            " [0.24059142 0.1311249  1.         ... 0.10085489 0.12944515 0.        ]\n",
            " ...\n",
            " [0.09730212 0.         0.10085489 ... 1.         0.34799575 0.        ]\n",
            " [0.12488525 0.         0.12944515 ... 0.34799575 1.         0.        ]\n",
            " [0.         0.         0.         ... 0.         0.         1.        ]]\n"
          ]
        }
      ]
    },
    {
      "cell_type": "code",
      "source": [
        "similarity.shape"
      ],
      "metadata": {
        "id": "P_Vbqnzzx8C6",
        "outputId": "415eca89-ce94-41a8-e233-24eddb5b81e8",
        "colab": {
          "base_uri": "https://localhost:8080/"
        }
      },
      "execution_count": 27,
      "outputs": [
        {
          "output_type": "execute_result",
          "data": {
            "text/plain": [
              "(533, 533)"
            ]
          },
          "metadata": {},
          "execution_count": 27
        }
      ]
    },
    {
      "cell_type": "code",
      "source": [
        "movie_name =  input('Enter your favouritr movie name:')"
      ],
      "metadata": {
        "id": "YJ6uTvyFyBbg",
        "outputId": "669001dd-2ab6-4f2c-a615-c65cf6e9a1fe",
        "colab": {
          "base_uri": "https://localhost:8080/"
        }
      },
      "execution_count": 39,
      "outputs": [
        {
          "name": "stdout",
          "output_type": "stream",
          "text": [
            "Enter your favouritr movie name:YOU\n"
          ]
        }
      ]
    },
    {
      "cell_type": "code",
      "source": [
        "#creating a list with all the movie names given in the dataset\n",
        "list_of_all_titles = movies_data['title'].tolist()\n",
        "print(list_of_all_titles)"
      ],
      "metadata": {
        "id": "BCkKHidbyrxg",
        "outputId": "c4bac22f-a31e-481f-9e90-7bc278566da6",
        "colab": {
          "base_uri": "https://localhost:8080/"
        }
      },
      "execution_count": 29,
      "outputs": [
        {
          "output_type": "stream",
          "name": "stdout",
          "text": [
            "['Avatar', \"Pirates of the Caribbean: At World's End\", 'Spectre', 'The Dark Knight Rises', 'John Carter', 'Spider-Man 3', 'Tangled', 'Avengers: Age of Ultron', 'Harry Potter and the Half-Blood Prince', 'Batman v Superman: Dawn of Justice', 'Superman Returns', 'Quantum of Solace', \"Pirates of the Caribbean: Dead Man's Chest\", 'The Lone Ranger', 'Man of Steel', 'The Chronicles of Narnia: Prince Caspian', 'The Avengers', 'Pirates of the Caribbean: On Stranger Tides', 'Men in Black 3', 'The Hobbit: The Battle of the Five Armies', 'The Amazing Spider-Man', 'Robin Hood', 'The Hobbit: The Desolation of Smaug', 'The Golden Compass', 'King Kong', 'Titanic', 'Captain America: Civil War', 'Battleship', 'Jurassic World', 'Skyfall', 'Spider-Man 2', 'Iron Man 3', 'Alice in Wonderland', 'X-Men: The Last Stand', 'Monsters University', 'Transformers: Revenge of the Fallen', 'Transformers: Age of Extinction', 'Oz: The Great and Powerful', 'The Amazing Spider-Man 2', 'TRON: Legacy', 'Cars 2', 'Green Lantern', 'Toy Story 3', 'Terminator Salvation', 'Furious 7', 'World War Z', 'X-Men: Days of Future Past', 'Star Trek Into Darkness', 'Jack the Giant Slayer', 'The Great Gatsby', 'Prince of Persia: The Sands of Time', 'Pacific Rim', 'Transformers: Dark of the Moon', 'Indiana Jones and the Kingdom of the Crystal Skull', 'The Good Dinosaur', 'Brave', 'Star Trek Beyond', 'WALL·E', 'Rush Hour 3', '2012', 'A Christmas Carol', 'Jupiter Ascending', 'The Legend of Tarzan', 'The Chronicles of Narnia: The Lion, the Witch and the Wardrobe', 'X-Men: Apocalypse', 'The Dark Knight', 'Up', 'Monsters vs Aliens', 'Iron Man', 'Hugo', 'Wild Wild West', 'The Mummy: Tomb of the Dragon Emperor', 'Suicide Squad', 'Evan Almighty', 'Edge of Tomorrow', 'Waterworld', 'G.I. Joe: The Rise of Cobra', 'Inside Out', 'The Jungle Book', 'Iron Man 2', 'Snow White and the Huntsman', 'Maleficent', 'Dawn of the Planet of the Apes', 'The Lovers', '47 Ronin', 'Captain America: The Winter Soldier', 'Shrek Forever After', 'Tomorrowland', 'Big Hero 6', 'Wreck-It Ralph', 'The Polar Express', 'Independence Day: Resurgence', 'How to Train Your Dragon', 'Terminator 3: Rise of the Machines', 'Guardians of the Galaxy', 'Interstellar', 'Inception', 'Shin Godzilla', 'The Hobbit: An Unexpected Journey', 'The Fast and the Furious', 'The Curious Case of Benjamin Button', 'X-Men: First Class', 'The Hunger Games: Mockingjay - Part 2', \"The Sorcerer's Apprentice\", 'Poseidon', 'Alice Through the Looking Glass', 'Shrek the Third', 'Warcraft', 'Terminator Genisys', 'The Chronicles of Narnia: The Voyage of the Dawn Treader', 'Pearl Harbor', 'Transformers', 'Alexander', 'Harry Potter and the Order of the Phoenix', 'Harry Potter and the Goblet of Fire', 'Hancock', 'I Am Legend', 'Charlie and the Chocolate Factory', 'Ratatouille', 'Batman Begins', 'Madagascar: Escape 2 Africa', 'Night at the Museum: Battle of the Smithsonian', 'X-Men Origins: Wolverine', 'The Matrix Revolutions', 'Frozen', 'The Matrix Reloaded', 'Thor: The Dark World', 'Mad Max: Fury Road', 'Angels & Demons', 'Thor', 'Bolt', 'G-Force', 'Wrath of the Titans', 'Dark Shadows', 'Mission: Impossible - Rogue Nation', 'The Wolfman', 'Bee Movie', 'Kung Fu Panda 2', 'The Last Airbender', 'Mission: Impossible III', 'White House Down', 'Mars Needs Moms', 'Flushed Away', 'Pan', 'Mr. Peabody & Sherman', 'Troy', \"Madagascar 3: Europe's Most Wanted\", 'Die Another Day', 'Ghostbusters', 'Armageddon', 'Men in Black II', 'Beowulf', 'Kung Fu Panda 3', 'Mission: Impossible - Ghost Protocol', 'Rise of the Guardians', 'Fun with Dick and Jane', 'The Last Samurai', 'Exodus: Gods and Kings', 'Star Trek', 'Spider-Man', 'How to Train Your Dragon 2', 'Gods of Egypt', 'Stealth', 'Watchmen', 'Lethal Weapon 4', 'Hulk', 'G.I. Joe: Retaliation', 'Sahara', 'Final Fantasy: The Spirits Within', 'Captain America: The First Avenger', 'The World Is Not Enough', 'Master and Commander: The Far Side of the World', 'The Twilight Saga: Breaking Dawn - Part 2', 'Happy Feet Two', 'The Incredible Hulk', 'The BFG', 'The Revenant', 'Turbo', 'Rango', 'Penguins of Madagascar', 'The Bourne Ultimatum', 'Kung Fu Panda', 'Ant-Man', 'The Hunger Games: Catching Fire', 'Home', 'War of the Worlds', 'Bad Boys II', 'Puss in Boots', 'Salt', 'Noah', 'The Adventures of Tintin', 'Harry Potter and the Prisoner of Azkaban', 'Australia', 'After Earth', 'Dinosaur', 'Night at the Museum: Secret of the Tomb', 'Megamind', \"Harry Potter and the Philosopher's Stone\", 'R.I.P.D.', 'Pirates of the Caribbean: The Curse of the Black Pearl', 'The Hunger Games: Mockingjay - Part 1', 'The Da Vinci Code', 'Rio 2', 'X2', 'Fast Five', 'Sherlock Holmes: A Game of Shadows', 'Clash of the Titans', 'Total Recall', 'The 13th Warrior', 'The Bourne Legacy', 'Batman & Robin', 'How the Grinch Stole Christmas', 'The Day After Tomorrow', 'Mission: Impossible II', 'The Perfect Storm', 'Fantastic 4: Rise of the Silver Surfer', 'Life of Pi', 'Ghost Rider', 'Jason Bourne', \"Charlie's Angels: Full Throttle\", 'Prometheus', 'Stuart Little 2', 'Elysium', 'The Chronicles of Riddick', 'RoboCop', 'Speed Racer', 'How Do You Know', 'Knight and Day', 'Oblivion', 'Star Wars: Episode III - Revenge of the Sith', 'Star Wars: Episode II - Attack of the Clones', 'Monsters, Inc.', 'The Wolverine', 'Star Wars: Episode I - The Phantom Menace', 'The Croods', 'Asterix at the Olympic Games', 'Windtalkers', \"The Huntsman: Winter's War\", 'Teenage Mutant Ninja Turtles', 'Gravity', \"Dante's Peak\", 'Teenage Mutant Ninja Turtles: Out of the Shadows', 'Fantastic Four', 'Night at the Museum', 'San Andreas', 'Tomorrow Never Dies', 'The Patriot', \"Ocean's Twelve\", 'Mr. & Mrs. Smith', 'Insurgent', 'The Aviator', \"Gulliver's Travels\", 'The Green Hornet', '300: Rise of an Empire', 'The Smurfs', 'Home on the Range', 'Allegiant', 'Real Steel', 'The Smurfs 2', 'Speed 2: Cruise Control', \"Ender's Game\", 'Live Free or Die Hard', 'The Lord of the Rings: The Fellowship of the Ring', 'Around the World in 80 Days', 'Ali', 'The Cat in the Hat', 'I, Robot', 'Kingdom of Heaven', 'Stuart Little', 'The Princess and the Frog', 'The Martian', 'The Island', 'Town & Country', 'Gone in Sixty Seconds', 'Gladiator', 'Minority Report', 'Harry Potter and the Chamber of Secrets', 'Casino Royale', 'Planet of the Apes', 'Terminator 2: Judgment Day', 'Public Enemies', 'American Gangster', 'True Lies', 'The Taking of Pelham 1 2 3', 'Little Fockers', 'The Other Guys', 'Eraser', 'Django Unchained', 'The Hunchback of Notre Dame', \"The Emperor's New Groove\", 'The Expendables 2', 'National Treasure', 'Eragon', 'Where the Wild Things Are', 'Epic', 'The Tourist', 'End of Days', 'Blood Diamond', 'The Wolf of Wall Street', 'Batman Forever', 'Starship Troopers', 'Cloud Atlas', \"Legend of the Guardians: The Owls of Ga'Hoole\", 'Catwoman', 'Hercules', 'Treasure Planet', 'Land of the Lost', 'The Expendables 3', 'Point Break', 'Son of the Mask', 'In the Heart of the Sea', 'The Adventures of Pluto Nash', 'Green Zone', 'The Peanuts Movie', 'The Spanish Prisoner', 'The Mummy Returns', 'Gangs of New York', 'The Flowers of War', \"Surf's Up\", 'The Stepford Wives', 'Black Hawk Down', 'The Campaign', 'The Fifth Element', 'Sex and the City 2', 'The Road to El Dorado', 'Ice Age: Continental Drift', 'Cinderella', 'The Lovely Bones', 'Finding Nemo', 'The Lord of the Rings: The Return of the King', 'The Lord of the Rings: The Two Towers', 'Seventh Son', 'Lara Croft: Tomb Raider', 'Transcendence', 'Jurassic Park III', 'Rise of the Planet of the Apes', 'The Spiderwick Chronicles', 'A Good Day to Die Hard', 'The Alamo', 'The Incredibles', 'Cutthroat Island', 'Percy Jackson & the Olympians: The Lightning Thief', 'Men in Black', 'Toy Story 2', 'Unstoppable', 'Rush Hour 2', 'What Lies Beneath', 'Cloudy with a Chance of Meatballs', 'Ice Age: Dawn of the Dinosaurs', 'The Secret Life of Walter Mitty', \"Charlie's Angels\", 'The Departed', 'Mulan', 'Tropic Thunder', 'The Girl with the Dragon Tattoo', 'Die Hard: With a Vengeance', 'Sherlock Holmes', 'Ben-Hur', 'Atlantis: The Lost Empire', 'Alvin and the Chipmunks: The Road Chip', 'Valkyrie', \"You Don't Mess with the Zohan\", 'Pixels', 'A.I. Artificial Intelligence', 'The Haunted Mansion', 'Contact', 'Hollow Man', 'The Interpreter', 'Percy Jackson: Sea of Monsters', 'Lara Croft Tomb Raider: The Cradle of Life', 'Now You See Me 2', 'The Saint', 'Spy Game', 'Mission to Mars', 'Rio', 'Bicentennial Man', 'Volcano', \"The Devil's Own\", 'K-19: The Widowmaker', 'Conan the Barbarian', 'Cinderella Man', 'The Nutcracker: The Untold Story', 'Seabiscuit', 'Twister', 'Cast Away', 'Happy Feet', 'The Bourne Supremacy', 'Air Force One', \"Ocean's Eleven\", 'The Three Musketeers', 'Hotel Transylvania', 'Enchanted', 'Safe House', '102 Dalmatians', 'Tower Heist', 'The Holiday', 'Enemy of the State', \"It's Complicated\", \"Ocean's Thirteen\", 'Open Season', 'Divergent', 'Enemy at the Gates', 'The Rundown', 'Last Action Hero', 'Memoirs of a Geisha', 'The Fast and the Furious: Tokyo Drift', 'Arthur Christmas', 'Meet Joe Black', 'Collateral Damage', 'All That Jazz', 'Mirror Mirror', 'Scott Pilgrim vs. the World', 'The Core', 'Nutty Professor II: The Klumps', 'Scooby-Doo', 'Dredd', 'Click', 'Creepshow', 'Cats & Dogs 2 : The Revenge of Kitty Galore', 'Jumper', 'Hellboy II: The Golden Army', 'Zodiac', 'The 6th Day', 'Bruce Almighty', 'The Expendables', 'Mission: Impossible', 'The Hunger Games', 'The Hangover Part II', 'Batman Returns', 'Over the Hedge', 'Lilo & Stitch', \"Charlotte's Web\", 'Deep Impact', 'RED 2', 'The Longest Yard', 'Alvin and the Chipmunks: Chipwrecked', 'Grown Ups 2', 'Get Smart', \"Something's Gotta Give\", 'Shutter Island', 'Four Christmases', 'Robots', 'Face/Off', 'Bedtime Stories', 'Road to Perdition', 'Just Go with It', 'Con Air', 'Eagle Eye', 'Cold Mountain', 'The Book of Eli', 'Flubber', 'The Haunting', 'Space Jam', 'The Pink Panther', 'The Day the Earth Stood Still', 'Conspiracy Theory', 'Fury', 'Six Days Seven Nights', 'Yogi Bear', 'Spirit: Stallion of the Cimarron', 'Zookeeper', 'Lost in Space', 'The Manchurian Candidate', 'Déjà Vu', 'Hotel Transylvania 2', 'Fantasia 2000', 'The Time Machine', 'Mighty Joe Young', 'Swordfish', 'The Legend of Zorro', 'What Dreams May Come', 'Little Nicky', 'The Brothers Grimm', 'Mars Attacks!', 'Evolution', 'The Edge', 'Surrogates', 'Thirteen Days', 'Daylight', 'Walking With Dinosaurs', 'Battlefield Earth', 'Looney Tunes: Back in Action', 'Nine', 'Timeline', 'The Postman', 'Babe: Pig in the City', 'The Last Witch Hunter', 'Red Planet', 'Arthur and the Invisibles', 'Oceans', 'A Sound of Thunder', 'Pompeii', 'Top Cat Begins', 'A Beautiful Mind', 'The Lion King', 'Journey 2: The Mysterious Island', 'Cloudy with a Chance of Meatballs 2', 'Red Dragon', 'Hidalgo', 'Jack and Jill', '2 Fast 2 Furious', 'The Little Prince', 'The Invasion', 'The Adventures of Rocky & Bullwinkle', 'The Secret Life of Pets', 'The League of Extraordinary Gentlemen', 'Despicable Me 2', 'Independence Day', 'The Lost World: Jurassic Park', 'Madagascar', 'Children of Men', 'X-Men', 'Wanted', 'The Rock', 'Ice Age: The Meltdown', '50 First Dates', 'Hairspray', 'Exorcist: The Beginning', 'Inspector Gadget', 'Now You See Me', 'Grown Ups', 'The Terminal', 'Hotel for Dogs', 'Vertical Limit', \"Charlie Wilson's War\", 'Shark Tale', 'Dreamgirls', 'Be Cool', 'Munich', 'Tears of the Sun', 'Killers', 'The Man from U.N.C.L.E.', 'Spanglish']\n"
          ]
        }
      ]
    },
    {
      "cell_type": "code",
      "source": [
        "#finding a close match of the movie name given by user\n",
        "find_close_match = difflib.get_close_matches(movie_name, list_of_all_titles)\n",
        "print(find_close_match)"
      ],
      "metadata": {
        "id": "zxFFgycGzHyz",
        "outputId": "76cf87b5-a0bd-47d5-e25f-cd04d4b48900",
        "colab": {
          "base_uri": "https://localhost:8080/"
        }
      },
      "execution_count": 31,
      "outputs": [
        {
          "output_type": "stream",
          "name": "stdout",
          "text": [
            "['Twister', 'The Pink Panther', 'The Other Guys']\n"
          ]
        }
      ]
    },
    {
      "cell_type": "code",
      "source": [
        "close_match = find_close_match[0]\n",
        "print(close_match)"
      ],
      "metadata": {
        "id": "UEJ2UJstzlPY",
        "outputId": "8b1c9a0e-76e5-491e-9a67-4ed3d7219811",
        "colab": {
          "base_uri": "https://localhost:8080/"
        }
      },
      "execution_count": 32,
      "outputs": [
        {
          "output_type": "stream",
          "name": "stdout",
          "text": [
            "Twister\n"
          ]
        }
      ]
    },
    {
      "cell_type": "code",
      "source": [
        "#finding the index of the nmovie\n",
        "index_of_the_movie = movies_data[movies_data.title == close_match]['index'].values[0]\n",
        "print(index_of_the_movie)"
      ],
      "metadata": {
        "id": "SKJZCYTkz46M",
        "outputId": "3f218b92-b18b-4684-887a-d99cad9538ae",
        "colab": {
          "base_uri": "https://localhost:8080/"
        }
      },
      "execution_count": 33,
      "outputs": [
        {
          "output_type": "stream",
          "name": "stdout",
          "text": [
            "383\n"
          ]
        }
      ]
    },
    {
      "cell_type": "code",
      "source": [
        "#printing the list of similar movies\n",
        "similarity_score = list( enumerate(similarity[index_of_the_movie]))\n",
        "print(similarity_score)"
      ],
      "metadata": {
        "id": "5MDV-5PG0V2S",
        "outputId": "3fcb7133-e344-47ae-ddb8-bd41e98e5842",
        "colab": {
          "base_uri": "https://localhost:8080/"
        }
      },
      "execution_count": 40,
      "outputs": [
        {
          "output_type": "stream",
          "name": "stdout",
          "text": [
            "[(0, 0.266316752740378), (1, 0.14514547847955192), (2, 0.2760407056783563), (3, 0.11624445921615728), (4, 0.31543166835269887), (5, 0.13864211344438765), (6, 0.0), (7, 0.31543166835269887), (8, 0.16232612120477624), (9, 0.33570654979030656), (10, 0.266316752740378), (11, 0.23436533231268214), (12, 0.14514547847955192), (13, 0.21806196350109036), (14, 0.266316752740378), (15, 0.15323578936362545), (16, 0.11964421066536096), (17, 0.33570654979030656), (18, 0.13850457963491952), (19, 0.33570654979030656), (20, 0.33570654979030656), (21, 0.17180128590244817), (22, 0.19491497435236654), (23, 0.19491497435236654), (24, 0.14619822000843027), (25, 0.0), (26, 0.31543166835269887), (27, 0.2570629203836268), (28, 0.25551055459232336), (29, 0.3703998688343527), (30, 0.33570654979030656), (31, 0.31543166835269887), (32, 0.0), (33, 0.25551055459232336), (34, 0.0), (35, 0.11964421066536096), (36, 0.11964421066536096), (37, 0.16232612120477624), (38, 0.33570654979030656), (39, 0.31543166835269887), (40, 0.12751133940171835), (41, 0.2570629203836268), (42, 0.0), (43, 0.12813862911002621), (44, 0.0), (45, 0.08608061906466481), (46, 0.266316752740378), (47, 0.31543166835269887), (48, 0.1382549377008904), (49, 0.0), (50, 0.25574309791157124), (51, 0.11964421066536096), (52, 0.11964421066536096), (53, 0.1742832581328981), (54, 0.16282881161705562), (55, 0.11517526874483604), (56, 0.31543166835269887), (57, 0.0), (58, 0.11823264984235074), (59, 0.31543166835269887), (60, 0.6724790531442054), (61, 0.10659884969357321), (62, 0.17180128590244817), (63, 0.15323578936362545), (64, 0.0), (65, 0.11624445921615728), (66, 0.0), (67, 0.12790321239788777), (68, 0.11964421066536096), (69, 0.16380273211590068), (70, 0.17577134312620213), (71, 0.33570654979030656), (72, 0.217226665573193), (73, 0.0), (74, 0.16373360142868362), (75, 0.1742832581328981), (76, 0.2570629203836268), (77, 0.0), (78, 0.13309568472708694), (79, 0.31543166835269887), (80, 0.7703678214184296), (81, 0.22463436438539247), (82, 0.11308435464028146), (83, 0.227808830305044), (84, 0.2802481056504359), (85, 0.31543166835269887), (86, 0.12485629596130052), (87, 0.11029450700026151), (88, 0.2314524535773431), (89, 0.0), (90, 0.1325716405387648), (91, 0.31543166835269887), (92, 0.1383270419650105), (93, 0.12901707270862225), (94, 0.11964421066536096), (95, 0.1500504235223153), (96, 0.08550506305114085), (97, 0.1939818710775374), (98, 0.14514547847955192), (99, 0.1327922458949705), (100, 0.0), (101, 0.11964421066536096), (102, 0.31543166835269887), (103, 0.7699293945851388), (104, 0.2995010265353128), (105, 0.0), (106, 0.12485629596130052), (107, 0.33570654979030656), (108, 0.10390016603620583), (109, 0.15323578936362545), (110, 0.0), (111, 0.12724383398116304), (112, 0.5417373396122835), (113, 0.1195575474554928), (114, 0.16232612120477624), (115, 0.0), (116, 0.0863454338042821), (117, 0.13549105613883045), (118, 0.0), (119, 0.6846402872229597), (120, 0.0), (121, 0.2546651501526711), (122, 0.2570629203836268), (123, 0.2570629203836268), (124, 0.16282881161705562), (125, 0.2570629203836268), (126, 0.33570654979030656), (127, 0.25551055459232336), (128, 0.0), (129, 0.14514547847955192), (130, 0.12751133940171835), (131, 0.2310497353033201), (132, 0.0), (133, 0.0), (134, 0.3703998688343527), (135, 0.0), (136, 0.12751133940171835), (137, 0.0), (138, 0.2731671107410529), (139, 0.3703998688343527), (140, 0.15390063237029614), (141, 0.16282881161705562), (142, 0.14198693418925645), (143, 0.15323578936362545), (144, 0.16282881161705562), (145, 0.1281474512550055), (146, 0.0), (147, 0.3703998688343527), (148, 0.13373195099379737), (149, 0.10390016603620583), (150, 0.2735966543826154), (151, 0.24183181467334963), (152, 0.25520470756133135), (153, 0.13285520673832799), (154, 0.0), (155, 0.0), (156, 0.07851161341687334), (157, 0.14619822000843027), (158, 0.11964421066536096), (159, 0.0), (160, 0.23448069455293494), (161, 0.0), (162, 0.0), (163, 0.11080648303176989), (164, 0.23775820994093427), (165, 0.13533789091653323), (166, 0.25551055459232336), (167, 0.2258085206414524), (168, 0.23515885370350081), (169, 0.31543166835269887), (170, 0.3703998688343527), (171, 0.0), (172, 0.1257545485032865), (173, 0.0), (174, 0.11964421066536096), (175, 0.15323578936362545), (176, 0.1055214766153274), (177, 0.0), (178, 0.0), (179, 0.12751133940171835), (180, 0.10760482988412426), (181, 0.12751133940171835), (182, 0.11964421066536096), (183, 0.31543166835269887), (184, 0.0), (185, 0.14313794218288153), (186, 0.2155926386744833), (187, 0.2398351070005344), (188, 0.12032480941685843), (189, 0.0), (190, 0.1367688203503722), (191, 0.16232612120477624), (192, 0.8333327895445499), (193, 0.11964421066536096), (194, 0.0), (195, 0.14165325146838825), (196, 0.10525046014319271), (197, 0.16232612120477624), (198, 0.1090804892401922), (199, 0.14514547847955192), (200, 0.1421761867859473), (201, 0.0), (202, 0.14198693418925645), (203, 0.25551055459232336), (204, 0.11636723072762012), (205, 0.22624335048238398), (206, 0.14514547847955192), (207, 0.31543166835269887), (208, 0.14514547847955192), (209, 0.20029914134642282), (210, 0.12518663924454473), (211, 0.0), (212, 0.25551055459232336), (213, 0.3703998688343527), (214, 0.8333327895445499), (215, 0.2969860561346868), (216, 0.14619822000843027), (217, 0.08858815270544983), (218, 0.20029914134642282), (219, 0.3138006208204172), (220, 0.1212774618237778), (221, 0.12751133940171835), (222, 0.11308435464028146), (223, 0.16373360142868362), (224, 0.16373360142868362), (225, 0.1317701681236373), (226, 0.0), (227, 0.162712969402133), (228, 0.22101173705836252), (229, 0.12724383398116304), (230, 0.31543166835269887), (231, 0.0), (232, 0.24324013580445497), (233, 0.31543166835269887), (234, 0.12057502512323454), (235, 0.14165325146838825), (236, 0.0906473275098988), (237, 1.0), (238, 0.21208207334065632), (239, 0.5013635521649374), (240, 0.3703998688343527), (241, 0.26533293833892363), (242, 0.31543166835269887), (243, 0.24463275658948203), (244, 0.15390063237029614), (245, 0.3703998688343527), (246, 0.0), (247, 0.0), (248, 0.13239884791964499), (249, 0.1421761867859473), (250, 0.8333327895445499), (251, 0.0), (252, 0.1199048447646749), (253, 0.1314652783258402), (254, 0.12057502512323454), (255, 0.0), (256, 0.18092096360912652), (257, 0.6655428660114522), (258, 0.0), (259, 0.3703998688343527), (260, 0.11964421066536096), (261, 0.20029914134642282), (262, 0.14514547847955192), (263, 0.3138006208204172), (264, 0.8333327895445499), (265, 0.0), (266, 0.16373360142868362), (267, 0.186067465433632), (268, 0.0), (269, 0.0), (270, 0.1500504235223153), (271, 0.10390016603620583), (272, 0.0), (273, 0.1327922458949705), (274, 0.13978837234539623), (275, 0.0967731818621945), (276, 0.16232612120477624), (277, 0.3703998688343527), (278, 0.10390016603620583), (279, 0.12901707270862225), (280, 0.4552984595215918), (281, 0.0), (282, 0.20029914134642282), (283, 0.0), (284, 0.0), (285, 0.12318539247722314), (286, 0.10760482988412426), (287, 0.0), (288, 0.0), (289, 0.12057502512323454), (290, 0.3703998688343527), (291, 0.23886639513476582), (292, 0.2873542895306546), (293, 0.0), (294, 0.1325716405387648), (295, 0.12364606719849518), (296, 0.09019316623974806), (297, 0.0), (298, 0.0), (299, 0.12518663924454473), (300, 0.2570629203836268), (301, 0.0), (302, 0.1325716405387648), (303, 0.13992834927855188), (304, 0.17180128590244817), (305, 0.11495581144147285), (306, 0.1535082522761639), (307, 0.3703998688343527), (308, 0.1327922458949705), (309, 0.0), (310, 0.19030326888322702), (311, 0.13850457963491952), (312, 0.19408728978739345), (313, 0.0), (314, 0.0), (315, 0.33570654979030656), (316, 0.0), (317, 0.0), (318, 0.0), (319, 0.13850457963491952), (320, 0.09786763495371553), (321, 0.0), (322, 0.22832596762816296), (323, 0.0), (324, 0.14198693418925645), (325, 0.14198693418925645), (326, 0.43433600447493936), (327, 0.6705698882391982), (328, 0.0), (329, 0.14514547847955192), (330, 0.14514547847955192), (331, 0.19491497435236654), (332, 0.2969860561346868), (333, 0.0), (334, 0.2570629203836268), (335, 0.1136867653005888), (336, 0.15323578936362545), (337, 0.20029914134642282), (338, 0.0), (339, 0.28813010725727), (340, 0.17180128590244817), (341, 0.16232612120477624), (342, 0.2735966543826154), (343, 0.0), (344, 0.20029914134642282), (345, 0.11823264984235074), (346, 0.0), (347, 0.0), (348, 0.0), (349, 0.13858090798998002), (350, 0.23775820994093427), (351, 0.0), (352, 0.0), (353, 0.162712969402133), (354, 0.418698190606397), (355, 0.20029914134642282), (356, 0.22624335048238398), (357, 0.8333327895445499), (358, 0.12790321239788777), (359, 0.14198693418925645), (360, 0.0), (361, 0.0), (362, 0.13850457963491952), (363, 0.0), (364, 0.0), (365, 0.0), (366, 0.12813862911002621), (367, 0.0), (368, 0.15323578936362545), (369, 0.2969860561346868), (370, 0.2092198137862224), (371, 0.08345940553305392), (372, 0.1327922458949705), (373, 0.0), (374, 0.14198693418925645), (375, 0.0), (376, 0.11308435464028146), (377, 0.5131857779002125), (378, 0.0), (379, 0.14514547847955192), (380, 0.0), (381, 0.14659525473570406), (382, 0.0), (383, 1.0), (384, 0.9250182319421086), (385, 0.0), (386, 0.15390063237029614), (387, 0.20029914134642282), (388, 0.0), (389, 0.3703998688343527), (390, 0.0), (391, 0.0), (392, 0.20029914134642282), (393, 0.0), (394, 0.162712969402133), (395, 0.0), (396, 0.15390063237029614), (397, 0.0), (398, 0.0), (399, 0.16282881161705562), (400, 0.31543166835269887), (401, 0.0), (402, 0.3071847058990046), (403, 0.2546651501526711), (404, 0.0), (405, 0.11624445921615728), (406, 0.0), (407, 0.0), (408, 0.7319298587133577), (409, 0.0), (410, 0.11880795874596575), (411, 0.3138006208204172), (412, 0.2570629203836268), (413, 0.0), (414, 0.12279939986784794), (415, 0.16373360142868362), (416, 0.0), (417, 0.0), (418, 0.0), (419, 0.1489129078028579), (420, 0.1489129078028579), (421, 0.0), (422, 0.0), (423, 0.0), (424, 0.1397824401237968), (425, 0.3703998688343527), (426, 0.13464184676814508), (427, 0.0), (428, 0.1767067056928178), (429, 0.0), (430, 0.0), (431, 0.0), (432, 0.12917623175365128), (433, 0.11823264984235074), (434, 0.6932832848268236), (435, 0.0), (436, 0.0), (437, 0.1586060718499375), (438, 0.0), (439, 0.0), (440, 0.48331581853847166), (441, 0.0), (442, 0.1038700426750756), (443, 0.0), (444, 0.5131857779002125), (445, 0.0), (446, 0.11636723072762012), (447, 0.0), (448, 0.8333327895445499), (449, 0.12901707270862225), (450, 0.0), (451, 0.0), (452, 0.0), (453, 0.09161449797298496), (454, 0.0), (455, 0.10760482988412426), (456, 0.0), (457, 0.2621691757652262), (458, 0.0), (459, 0.09762842425273316), (460, 0.0), (461, 0.14615044154600002), (462, 0.0), (463, 0.5241151617375032), (464, 0.0), (465, 0.0), (466, 0.12724383398116304), (467, 0.2731671107410529), (468, 0.1327922458949705), (469, 0.17180128590244817), (470, 0.0), (471, 0.0), (472, 0.2612973125264954), (473, 0.0), (474, 0.0), (475, 1.0), (476, 0.12813862911002621), (477, 0.0), (478, 0.3703998688343527), (479, 0.0), (480, 0.10323127861659173), (481, 0.0), (482, 0.0), (483, 0.31543166835269887), (484, 0.0), (485, 0.12096888598955811), (486, 0.13864211344438765), (487, 0.12901707270862225), (488, 0.1383270419650105), (489, 0.0), (490, 0.11178949763741948), (491, 0.5744018596802946), (492, 0.0), (493, 0.0), (494, 0.5690736745645623), (495, 0.31543166835269887), (496, 0.0), (497, 0.0), (498, 0.0), (499, 0.0), (500, 0.1327922458949705), (501, 0.15687858987519374), (502, 0.0), (503, 0.25520470756133135), (504, 0.0), (505, 0.11306759862692445), (506, 0.0), (507, 0.31543166835269887), (508, 0.31543166835269887), (509, 0.0), (510, 0.1136867653005888), (511, 0.31543166835269887), (512, 0.11636723072762012), (513, 0.3703998688343527), (514, 0.0), (515, 0.0), (516, 0.0), (517, 0.0), (518, 0.2965618935686959), (519, 0.0), (520, 0.0), (521, 0.6932832848268236), (522, 0.0), (523, 0.3703998688343527), (524, 0.0), (525, 0.12796579843238218), (526, 0.8333327895445499), (527, 0.0), (528, 0.10613983467605093), (529, 0.11535119808108106), (530, 0.1116388331092519), (531, 0.14328612195664348), (532, 0.0)]\n"
          ]
        }
      ]
    },
    {
      "cell_type": "code",
      "source": [
        "#sorting the movies basedon their similarity score\n",
        "sorted_similar_movies = sorted(similarity_score, key = lambda x:x[1], reverse = True)\n",
        "print(sorted_similar_movies)"
      ],
      "metadata": {
        "id": "YVgOuNyc1Pk0",
        "outputId": "21ab4610-52b1-4936-f6aa-051b1d537a83",
        "colab": {
          "base_uri": "https://localhost:8080/"
        }
      },
      "execution_count": 41,
      "outputs": [
        {
          "output_type": "stream",
          "name": "stdout",
          "text": [
            "[(237, 1.0), (383, 1.0), (475, 1.0), (384, 0.9250182319421086), (192, 0.8333327895445499), (214, 0.8333327895445499), (250, 0.8333327895445499), (264, 0.8333327895445499), (357, 0.8333327895445499), (448, 0.8333327895445499), (526, 0.8333327895445499), (80, 0.7703678214184296), (103, 0.7699293945851388), (408, 0.7319298587133577), (434, 0.6932832848268236), (521, 0.6932832848268236), (119, 0.6846402872229597), (60, 0.6724790531442054), (327, 0.6705698882391982), (257, 0.6655428660114522), (491, 0.5744018596802946), (494, 0.5690736745645623), (112, 0.5417373396122835), (463, 0.5241151617375032), (377, 0.5131857779002125), (444, 0.5131857779002125), (239, 0.5013635521649374), (440, 0.48331581853847166), (280, 0.4552984595215918), (326, 0.43433600447493936), (354, 0.418698190606397), (29, 0.3703998688343527), (134, 0.3703998688343527), (139, 0.3703998688343527), (147, 0.3703998688343527), (170, 0.3703998688343527), (213, 0.3703998688343527), (240, 0.3703998688343527), (245, 0.3703998688343527), (259, 0.3703998688343527), (277, 0.3703998688343527), (290, 0.3703998688343527), (307, 0.3703998688343527), (389, 0.3703998688343527), (425, 0.3703998688343527), (478, 0.3703998688343527), (513, 0.3703998688343527), (523, 0.3703998688343527), (9, 0.33570654979030656), (17, 0.33570654979030656), (19, 0.33570654979030656), (20, 0.33570654979030656), (30, 0.33570654979030656), (38, 0.33570654979030656), (71, 0.33570654979030656), (107, 0.33570654979030656), (126, 0.33570654979030656), (315, 0.33570654979030656), (4, 0.31543166835269887), (7, 0.31543166835269887), (26, 0.31543166835269887), (31, 0.31543166835269887), (39, 0.31543166835269887), (47, 0.31543166835269887), (56, 0.31543166835269887), (59, 0.31543166835269887), (79, 0.31543166835269887), (85, 0.31543166835269887), (91, 0.31543166835269887), (102, 0.31543166835269887), (169, 0.31543166835269887), (183, 0.31543166835269887), (207, 0.31543166835269887), (230, 0.31543166835269887), (233, 0.31543166835269887), (242, 0.31543166835269887), (400, 0.31543166835269887), (483, 0.31543166835269887), (495, 0.31543166835269887), (507, 0.31543166835269887), (508, 0.31543166835269887), (511, 0.31543166835269887), (219, 0.3138006208204172), (263, 0.3138006208204172), (411, 0.3138006208204172), (402, 0.3071847058990046), (104, 0.2995010265353128), (215, 0.2969860561346868), (332, 0.2969860561346868), (369, 0.2969860561346868), (518, 0.2965618935686959), (339, 0.28813010725727), (292, 0.2873542895306546), (84, 0.2802481056504359), (2, 0.2760407056783563), (150, 0.2735966543826154), (342, 0.2735966543826154), (138, 0.2731671107410529), (467, 0.2731671107410529), (0, 0.266316752740378), (10, 0.266316752740378), (14, 0.266316752740378), (46, 0.266316752740378), (241, 0.26533293833892363), (457, 0.2621691757652262), (472, 0.2612973125264954), (27, 0.2570629203836268), (41, 0.2570629203836268), (76, 0.2570629203836268), (122, 0.2570629203836268), (123, 0.2570629203836268), (125, 0.2570629203836268), (300, 0.2570629203836268), (334, 0.2570629203836268), (412, 0.2570629203836268), (50, 0.25574309791157124), (28, 0.25551055459232336), (33, 0.25551055459232336), (127, 0.25551055459232336), (166, 0.25551055459232336), (203, 0.25551055459232336), (212, 0.25551055459232336), (152, 0.25520470756133135), (503, 0.25520470756133135), (121, 0.2546651501526711), (403, 0.2546651501526711), (243, 0.24463275658948203), (232, 0.24324013580445497), (151, 0.24183181467334963), (187, 0.2398351070005344), (291, 0.23886639513476582), (164, 0.23775820994093427), (350, 0.23775820994093427), (168, 0.23515885370350081), (160, 0.23448069455293494), (11, 0.23436533231268214), (88, 0.2314524535773431), (131, 0.2310497353033201), (322, 0.22832596762816296), (83, 0.227808830305044), (205, 0.22624335048238398), (356, 0.22624335048238398), (167, 0.2258085206414524), (81, 0.22463436438539247), (228, 0.22101173705836252), (13, 0.21806196350109036), (72, 0.217226665573193), (186, 0.2155926386744833), (238, 0.21208207334065632), (370, 0.2092198137862224), (209, 0.20029914134642282), (218, 0.20029914134642282), (261, 0.20029914134642282), (282, 0.20029914134642282), (337, 0.20029914134642282), (344, 0.20029914134642282), (355, 0.20029914134642282), (387, 0.20029914134642282), (392, 0.20029914134642282), (22, 0.19491497435236654), (23, 0.19491497435236654), (331, 0.19491497435236654), (312, 0.19408728978739345), (97, 0.1939818710775374), (310, 0.19030326888322702), (267, 0.186067465433632), (256, 0.18092096360912652), (428, 0.1767067056928178), (70, 0.17577134312620213), (53, 0.1742832581328981), (75, 0.1742832581328981), (21, 0.17180128590244817), (62, 0.17180128590244817), (304, 0.17180128590244817), (340, 0.17180128590244817), (469, 0.17180128590244817), (69, 0.16380273211590068), (74, 0.16373360142868362), (223, 0.16373360142868362), (224, 0.16373360142868362), (266, 0.16373360142868362), (415, 0.16373360142868362), (54, 0.16282881161705562), (124, 0.16282881161705562), (141, 0.16282881161705562), (144, 0.16282881161705562), (399, 0.16282881161705562), (227, 0.162712969402133), (353, 0.162712969402133), (394, 0.162712969402133), (8, 0.16232612120477624), (37, 0.16232612120477624), (114, 0.16232612120477624), (191, 0.16232612120477624), (197, 0.16232612120477624), (276, 0.16232612120477624), (341, 0.16232612120477624), (437, 0.1586060718499375), (501, 0.15687858987519374), (140, 0.15390063237029614), (244, 0.15390063237029614), (386, 0.15390063237029614), (396, 0.15390063237029614), (306, 0.1535082522761639), (15, 0.15323578936362545), (63, 0.15323578936362545), (109, 0.15323578936362545), (143, 0.15323578936362545), (175, 0.15323578936362545), (336, 0.15323578936362545), (368, 0.15323578936362545), (95, 0.1500504235223153), (270, 0.1500504235223153), (419, 0.1489129078028579), (420, 0.1489129078028579), (381, 0.14659525473570406), (24, 0.14619822000843027), (157, 0.14619822000843027), (216, 0.14619822000843027), (461, 0.14615044154600002), (1, 0.14514547847955192), (12, 0.14514547847955192), (98, 0.14514547847955192), (129, 0.14514547847955192), (199, 0.14514547847955192), (206, 0.14514547847955192), (208, 0.14514547847955192), (262, 0.14514547847955192), (329, 0.14514547847955192), (330, 0.14514547847955192), (379, 0.14514547847955192), (531, 0.14328612195664348), (185, 0.14313794218288153), (200, 0.1421761867859473), (249, 0.1421761867859473), (142, 0.14198693418925645), (202, 0.14198693418925645), (324, 0.14198693418925645), (325, 0.14198693418925645), (359, 0.14198693418925645), (374, 0.14198693418925645), (195, 0.14165325146838825), (235, 0.14165325146838825), (303, 0.13992834927855188), (274, 0.13978837234539623), (424, 0.1397824401237968), (5, 0.13864211344438765), (486, 0.13864211344438765), (349, 0.13858090798998002), (18, 0.13850457963491952), (311, 0.13850457963491952), (319, 0.13850457963491952), (362, 0.13850457963491952), (92, 0.1383270419650105), (488, 0.1383270419650105), (48, 0.1382549377008904), (190, 0.1367688203503722), (117, 0.13549105613883045), (165, 0.13533789091653323), (426, 0.13464184676814508), (148, 0.13373195099379737), (78, 0.13309568472708694), (153, 0.13285520673832799), (99, 0.1327922458949705), (273, 0.1327922458949705), (308, 0.1327922458949705), (372, 0.1327922458949705), (468, 0.1327922458949705), (500, 0.1327922458949705), (90, 0.1325716405387648), (294, 0.1325716405387648), (302, 0.1325716405387648), (248, 0.13239884791964499), (225, 0.1317701681236373), (253, 0.1314652783258402), (432, 0.12917623175365128), (93, 0.12901707270862225), (279, 0.12901707270862225), (449, 0.12901707270862225), (487, 0.12901707270862225), (145, 0.1281474512550055), (43, 0.12813862911002621), (366, 0.12813862911002621), (476, 0.12813862911002621), (525, 0.12796579843238218), (67, 0.12790321239788777), (358, 0.12790321239788777), (40, 0.12751133940171835), (130, 0.12751133940171835), (136, 0.12751133940171835), (179, 0.12751133940171835), (181, 0.12751133940171835), (221, 0.12751133940171835), (111, 0.12724383398116304), (229, 0.12724383398116304), (466, 0.12724383398116304), (172, 0.1257545485032865), (210, 0.12518663924454473), (299, 0.12518663924454473), (86, 0.12485629596130052), (106, 0.12485629596130052), (295, 0.12364606719849518), (285, 0.12318539247722314), (414, 0.12279939986784794), (220, 0.1212774618237778), (485, 0.12096888598955811), (234, 0.12057502512323454), (254, 0.12057502512323454), (289, 0.12057502512323454), (188, 0.12032480941685843), (252, 0.1199048447646749), (16, 0.11964421066536096), (35, 0.11964421066536096), (36, 0.11964421066536096), (51, 0.11964421066536096), (52, 0.11964421066536096), (68, 0.11964421066536096), (94, 0.11964421066536096), (101, 0.11964421066536096), (158, 0.11964421066536096), (174, 0.11964421066536096), (182, 0.11964421066536096), (193, 0.11964421066536096), (260, 0.11964421066536096), (113, 0.1195575474554928), (410, 0.11880795874596575), (58, 0.11823264984235074), (345, 0.11823264984235074), (433, 0.11823264984235074), (204, 0.11636723072762012), (446, 0.11636723072762012), (512, 0.11636723072762012), (3, 0.11624445921615728), (65, 0.11624445921615728), (405, 0.11624445921615728), (529, 0.11535119808108106), (55, 0.11517526874483604), (305, 0.11495581144147285), (335, 0.1136867653005888), (510, 0.1136867653005888), (82, 0.11308435464028146), (222, 0.11308435464028146), (376, 0.11308435464028146), (505, 0.11306759862692445), (490, 0.11178949763741948), (530, 0.1116388331092519), (163, 0.11080648303176989), (87, 0.11029450700026151), (198, 0.1090804892401922), (180, 0.10760482988412426), (286, 0.10760482988412426), (455, 0.10760482988412426), (61, 0.10659884969357321), (528, 0.10613983467605093), (176, 0.1055214766153274), (196, 0.10525046014319271), (108, 0.10390016603620583), (149, 0.10390016603620583), (271, 0.10390016603620583), (278, 0.10390016603620583), (442, 0.1038700426750756), (480, 0.10323127861659173), (320, 0.09786763495371553), (459, 0.09762842425273316), (275, 0.0967731818621945), (453, 0.09161449797298496), (236, 0.0906473275098988), (296, 0.09019316623974806), (217, 0.08858815270544983), (116, 0.0863454338042821), (45, 0.08608061906466481), (96, 0.08550506305114085), (371, 0.08345940553305392), (156, 0.07851161341687334), (6, 0.0), (25, 0.0), (32, 0.0), (34, 0.0), (42, 0.0), (44, 0.0), (49, 0.0), (57, 0.0), (64, 0.0), (66, 0.0), (73, 0.0), (77, 0.0), (89, 0.0), (100, 0.0), (105, 0.0), (110, 0.0), (115, 0.0), (118, 0.0), (120, 0.0), (128, 0.0), (132, 0.0), (133, 0.0), (135, 0.0), (137, 0.0), (146, 0.0), (154, 0.0), (155, 0.0), (159, 0.0), (161, 0.0), (162, 0.0), (171, 0.0), (173, 0.0), (177, 0.0), (178, 0.0), (184, 0.0), (189, 0.0), (194, 0.0), (201, 0.0), (211, 0.0), (226, 0.0), (231, 0.0), (246, 0.0), (247, 0.0), (251, 0.0), (255, 0.0), (258, 0.0), (265, 0.0), (268, 0.0), (269, 0.0), (272, 0.0), (281, 0.0), (283, 0.0), (284, 0.0), (287, 0.0), (288, 0.0), (293, 0.0), (297, 0.0), (298, 0.0), (301, 0.0), (309, 0.0), (313, 0.0), (314, 0.0), (316, 0.0), (317, 0.0), (318, 0.0), (321, 0.0), (323, 0.0), (328, 0.0), (333, 0.0), (338, 0.0), (343, 0.0), (346, 0.0), (347, 0.0), (348, 0.0), (351, 0.0), (352, 0.0), (360, 0.0), (361, 0.0), (363, 0.0), (364, 0.0), (365, 0.0), (367, 0.0), (373, 0.0), (375, 0.0), (378, 0.0), (380, 0.0), (382, 0.0), (385, 0.0), (388, 0.0), (390, 0.0), (391, 0.0), (393, 0.0), (395, 0.0), (397, 0.0), (398, 0.0), (401, 0.0), (404, 0.0), (406, 0.0), (407, 0.0), (409, 0.0), (413, 0.0), (416, 0.0), (417, 0.0), (418, 0.0), (421, 0.0), (422, 0.0), (423, 0.0), (427, 0.0), (429, 0.0), (430, 0.0), (431, 0.0), (435, 0.0), (436, 0.0), (438, 0.0), (439, 0.0), (441, 0.0), (443, 0.0), (445, 0.0), (447, 0.0), (450, 0.0), (451, 0.0), (452, 0.0), (454, 0.0), (456, 0.0), (458, 0.0), (460, 0.0), (462, 0.0), (464, 0.0), (465, 0.0), (470, 0.0), (471, 0.0), (473, 0.0), (474, 0.0), (477, 0.0), (479, 0.0), (481, 0.0), (482, 0.0), (484, 0.0), (489, 0.0), (492, 0.0), (493, 0.0), (496, 0.0), (497, 0.0), (498, 0.0), (499, 0.0), (502, 0.0), (504, 0.0), (506, 0.0), (509, 0.0), (514, 0.0), (515, 0.0), (516, 0.0), (517, 0.0), (519, 0.0), (520, 0.0), (522, 0.0), (524, 0.0), (527, 0.0), (532, 0.0)]\n"
          ]
        }
      ]
    },
    {
      "cell_type": "code",
      "source": [
        "#print the name of similar movies based on the index\n",
        "print('Movies suggested for you: \\n')\n",
        "i = 1\n",
        "for movie in sorted_similar_movies:\n",
        " index = movie[0]\n",
        " title_from_index = movies_data[movies_data.index == index]['title'].values[0]\n",
        " if (i<30):\n",
        "  print(i, '.',title_from_index)\n",
        "  i+=1"
      ],
      "metadata": {
        "id": "C_Zu7g3l24Bb",
        "outputId": "a431f8ca-ae78-48e7-9573-7fc69b6d5aca",
        "colab": {
          "base_uri": "https://localhost:8080/"
        }
      },
      "execution_count": 38,
      "outputs": [
        {
          "output_type": "stream",
          "name": "stdout",
          "text": [
            "Movies suggested for you: \n",
            "\n",
            "1 . The Huntsman: Winter's War\n",
            "2 . Twister\n",
            "3 . The Edge\n",
            "4 . Cast Away\n",
            "5 . Australia\n",
            "6 . The Perfect Storm\n",
            "7 . The Aviator\n",
            "8 . Ali\n",
            "9 . Ben-Hur\n",
            "10 . Cold Mountain\n",
            "11 . Dreamgirls\n",
            "12 . Snow White and the Huntsman\n",
            "13 . The Sorcerer's Apprentice\n",
            "14 . Collateral Damage\n",
            "15 . The Longest Yard\n",
            "16 . The Terminal\n",
            "17 . Batman Begins\n",
            "18 . A Christmas Carol\n",
            "19 . The Lovely Bones\n",
            "20 . Real Steel\n",
            "21 . Pompeii\n",
            "22 . The Lion King\n",
            "23 . Alexander\n",
            "24 . Déjà Vu\n",
            "25 . The Devil's Own\n",
            "26 . Road to Perdition\n",
            "27 . Gravity\n",
            "28 . Four Christmases\n",
            "29 . Public Enemies\n"
          ]
        }
      ]
    },
    {
      "cell_type": "markdown",
      "source": [
        "MOVIE RECOMMENDATION SYSTEM"
      ],
      "metadata": {
        "id": "6ARnXYg27MoD"
      }
    },
    {
      "cell_type": "code",
      "source": [
        "movie_name =  input('Enter your favouritr movie name:')\n",
        "#creating a list with all the movie names given in the dataset\n",
        "list_of_all_titles = movies_data['title'].tolist()\n",
        "print(list_of_all_titles)\n",
        "#finding a close match of the movie name given by user\n",
        "find_close_match = difflib.get_close_matches(movie_name, list_of_all_titles)\n",
        "print(find_close_match)\n",
        "close_match = find_close_match[0]\n",
        "print(close_match)\n",
        "#finding the index of the nmovie\n",
        "index_of_the_movie = movies_data[movies_data.title == close_match]['index'].values[0]\n",
        "print(index_of_the_movie)\n",
        "#printing the list of similar movies\n",
        "similarity_score = list( enumerate(similarity[index_of_the_movie]))\n",
        "print(similarity_score)\n",
        "#sorting the movies basedon their similarity score\n",
        "sorted_similar_movies = sorted(similarity_score, key = lambda x:x[1], reverse = True)\n",
        "print(sorted_similar_movies)\n",
        "#print the name of similar movies based on the index\n",
        "print('Movies suggested for you: \\n')\n",
        "i = 1\n",
        "for movie in sorted_similar_movies:\n",
        " index = movie[0]\n",
        " title_from_index = movies_data[movies_data.index == index]['title'].values[0]\n",
        " if (i<30):\n",
        "  print(i, '.',title_from_index)\n",
        "  i+=1"
      ],
      "metadata": {
        "id": "SQQfyrkh4JTL",
        "outputId": "e96cfcad-2b87-4572-8eea-f7687a1d8ae7",
        "colab": {
          "base_uri": "https://localhost:8080/"
        }
      },
      "execution_count": 43,
      "outputs": [
        {
          "output_type": "stream",
          "name": "stdout",
          "text": [
            "Enter your favouritr movie name:danger\n",
            "['Avatar', \"Pirates of the Caribbean: At World's End\", 'Spectre', 'The Dark Knight Rises', 'John Carter', 'Spider-Man 3', 'Tangled', 'Avengers: Age of Ultron', 'Harry Potter and the Half-Blood Prince', 'Batman v Superman: Dawn of Justice', 'Superman Returns', 'Quantum of Solace', \"Pirates of the Caribbean: Dead Man's Chest\", 'The Lone Ranger', 'Man of Steel', 'The Chronicles of Narnia: Prince Caspian', 'The Avengers', 'Pirates of the Caribbean: On Stranger Tides', 'Men in Black 3', 'The Hobbit: The Battle of the Five Armies', 'The Amazing Spider-Man', 'Robin Hood', 'The Hobbit: The Desolation of Smaug', 'The Golden Compass', 'King Kong', 'Titanic', 'Captain America: Civil War', 'Battleship', 'Jurassic World', 'Skyfall', 'Spider-Man 2', 'Iron Man 3', 'Alice in Wonderland', 'X-Men: The Last Stand', 'Monsters University', 'Transformers: Revenge of the Fallen', 'Transformers: Age of Extinction', 'Oz: The Great and Powerful', 'The Amazing Spider-Man 2', 'TRON: Legacy', 'Cars 2', 'Green Lantern', 'Toy Story 3', 'Terminator Salvation', 'Furious 7', 'World War Z', 'X-Men: Days of Future Past', 'Star Trek Into Darkness', 'Jack the Giant Slayer', 'The Great Gatsby', 'Prince of Persia: The Sands of Time', 'Pacific Rim', 'Transformers: Dark of the Moon', 'Indiana Jones and the Kingdom of the Crystal Skull', 'The Good Dinosaur', 'Brave', 'Star Trek Beyond', 'WALL·E', 'Rush Hour 3', '2012', 'A Christmas Carol', 'Jupiter Ascending', 'The Legend of Tarzan', 'The Chronicles of Narnia: The Lion, the Witch and the Wardrobe', 'X-Men: Apocalypse', 'The Dark Knight', 'Up', 'Monsters vs Aliens', 'Iron Man', 'Hugo', 'Wild Wild West', 'The Mummy: Tomb of the Dragon Emperor', 'Suicide Squad', 'Evan Almighty', 'Edge of Tomorrow', 'Waterworld', 'G.I. Joe: The Rise of Cobra', 'Inside Out', 'The Jungle Book', 'Iron Man 2', 'Snow White and the Huntsman', 'Maleficent', 'Dawn of the Planet of the Apes', 'The Lovers', '47 Ronin', 'Captain America: The Winter Soldier', 'Shrek Forever After', 'Tomorrowland', 'Big Hero 6', 'Wreck-It Ralph', 'The Polar Express', 'Independence Day: Resurgence', 'How to Train Your Dragon', 'Terminator 3: Rise of the Machines', 'Guardians of the Galaxy', 'Interstellar', 'Inception', 'Shin Godzilla', 'The Hobbit: An Unexpected Journey', 'The Fast and the Furious', 'The Curious Case of Benjamin Button', 'X-Men: First Class', 'The Hunger Games: Mockingjay - Part 2', \"The Sorcerer's Apprentice\", 'Poseidon', 'Alice Through the Looking Glass', 'Shrek the Third', 'Warcraft', 'Terminator Genisys', 'The Chronicles of Narnia: The Voyage of the Dawn Treader', 'Pearl Harbor', 'Transformers', 'Alexander', 'Harry Potter and the Order of the Phoenix', 'Harry Potter and the Goblet of Fire', 'Hancock', 'I Am Legend', 'Charlie and the Chocolate Factory', 'Ratatouille', 'Batman Begins', 'Madagascar: Escape 2 Africa', 'Night at the Museum: Battle of the Smithsonian', 'X-Men Origins: Wolverine', 'The Matrix Revolutions', 'Frozen', 'The Matrix Reloaded', 'Thor: The Dark World', 'Mad Max: Fury Road', 'Angels & Demons', 'Thor', 'Bolt', 'G-Force', 'Wrath of the Titans', 'Dark Shadows', 'Mission: Impossible - Rogue Nation', 'The Wolfman', 'Bee Movie', 'Kung Fu Panda 2', 'The Last Airbender', 'Mission: Impossible III', 'White House Down', 'Mars Needs Moms', 'Flushed Away', 'Pan', 'Mr. Peabody & Sherman', 'Troy', \"Madagascar 3: Europe's Most Wanted\", 'Die Another Day', 'Ghostbusters', 'Armageddon', 'Men in Black II', 'Beowulf', 'Kung Fu Panda 3', 'Mission: Impossible - Ghost Protocol', 'Rise of the Guardians', 'Fun with Dick and Jane', 'The Last Samurai', 'Exodus: Gods and Kings', 'Star Trek', 'Spider-Man', 'How to Train Your Dragon 2', 'Gods of Egypt', 'Stealth', 'Watchmen', 'Lethal Weapon 4', 'Hulk', 'G.I. Joe: Retaliation', 'Sahara', 'Final Fantasy: The Spirits Within', 'Captain America: The First Avenger', 'The World Is Not Enough', 'Master and Commander: The Far Side of the World', 'The Twilight Saga: Breaking Dawn - Part 2', 'Happy Feet Two', 'The Incredible Hulk', 'The BFG', 'The Revenant', 'Turbo', 'Rango', 'Penguins of Madagascar', 'The Bourne Ultimatum', 'Kung Fu Panda', 'Ant-Man', 'The Hunger Games: Catching Fire', 'Home', 'War of the Worlds', 'Bad Boys II', 'Puss in Boots', 'Salt', 'Noah', 'The Adventures of Tintin', 'Harry Potter and the Prisoner of Azkaban', 'Australia', 'After Earth', 'Dinosaur', 'Night at the Museum: Secret of the Tomb', 'Megamind', \"Harry Potter and the Philosopher's Stone\", 'R.I.P.D.', 'Pirates of the Caribbean: The Curse of the Black Pearl', 'The Hunger Games: Mockingjay - Part 1', 'The Da Vinci Code', 'Rio 2', 'X2', 'Fast Five', 'Sherlock Holmes: A Game of Shadows', 'Clash of the Titans', 'Total Recall', 'The 13th Warrior', 'The Bourne Legacy', 'Batman & Robin', 'How the Grinch Stole Christmas', 'The Day After Tomorrow', 'Mission: Impossible II', 'The Perfect Storm', 'Fantastic 4: Rise of the Silver Surfer', 'Life of Pi', 'Ghost Rider', 'Jason Bourne', \"Charlie's Angels: Full Throttle\", 'Prometheus', 'Stuart Little 2', 'Elysium', 'The Chronicles of Riddick', 'RoboCop', 'Speed Racer', 'How Do You Know', 'Knight and Day', 'Oblivion', 'Star Wars: Episode III - Revenge of the Sith', 'Star Wars: Episode II - Attack of the Clones', 'Monsters, Inc.', 'The Wolverine', 'Star Wars: Episode I - The Phantom Menace', 'The Croods', 'Asterix at the Olympic Games', 'Windtalkers', \"The Huntsman: Winter's War\", 'Teenage Mutant Ninja Turtles', 'Gravity', \"Dante's Peak\", 'Teenage Mutant Ninja Turtles: Out of the Shadows', 'Fantastic Four', 'Night at the Museum', 'San Andreas', 'Tomorrow Never Dies', 'The Patriot', \"Ocean's Twelve\", 'Mr. & Mrs. Smith', 'Insurgent', 'The Aviator', \"Gulliver's Travels\", 'The Green Hornet', '300: Rise of an Empire', 'The Smurfs', 'Home on the Range', 'Allegiant', 'Real Steel', 'The Smurfs 2', 'Speed 2: Cruise Control', \"Ender's Game\", 'Live Free or Die Hard', 'The Lord of the Rings: The Fellowship of the Ring', 'Around the World in 80 Days', 'Ali', 'The Cat in the Hat', 'I, Robot', 'Kingdom of Heaven', 'Stuart Little', 'The Princess and the Frog', 'The Martian', 'The Island', 'Town & Country', 'Gone in Sixty Seconds', 'Gladiator', 'Minority Report', 'Harry Potter and the Chamber of Secrets', 'Casino Royale', 'Planet of the Apes', 'Terminator 2: Judgment Day', 'Public Enemies', 'American Gangster', 'True Lies', 'The Taking of Pelham 1 2 3', 'Little Fockers', 'The Other Guys', 'Eraser', 'Django Unchained', 'The Hunchback of Notre Dame', \"The Emperor's New Groove\", 'The Expendables 2', 'National Treasure', 'Eragon', 'Where the Wild Things Are', 'Epic', 'The Tourist', 'End of Days', 'Blood Diamond', 'The Wolf of Wall Street', 'Batman Forever', 'Starship Troopers', 'Cloud Atlas', \"Legend of the Guardians: The Owls of Ga'Hoole\", 'Catwoman', 'Hercules', 'Treasure Planet', 'Land of the Lost', 'The Expendables 3', 'Point Break', 'Son of the Mask', 'In the Heart of the Sea', 'The Adventures of Pluto Nash', 'Green Zone', 'The Peanuts Movie', 'The Spanish Prisoner', 'The Mummy Returns', 'Gangs of New York', 'The Flowers of War', \"Surf's Up\", 'The Stepford Wives', 'Black Hawk Down', 'The Campaign', 'The Fifth Element', 'Sex and the City 2', 'The Road to El Dorado', 'Ice Age: Continental Drift', 'Cinderella', 'The Lovely Bones', 'Finding Nemo', 'The Lord of the Rings: The Return of the King', 'The Lord of the Rings: The Two Towers', 'Seventh Son', 'Lara Croft: Tomb Raider', 'Transcendence', 'Jurassic Park III', 'Rise of the Planet of the Apes', 'The Spiderwick Chronicles', 'A Good Day to Die Hard', 'The Alamo', 'The Incredibles', 'Cutthroat Island', 'Percy Jackson & the Olympians: The Lightning Thief', 'Men in Black', 'Toy Story 2', 'Unstoppable', 'Rush Hour 2', 'What Lies Beneath', 'Cloudy with a Chance of Meatballs', 'Ice Age: Dawn of the Dinosaurs', 'The Secret Life of Walter Mitty', \"Charlie's Angels\", 'The Departed', 'Mulan', 'Tropic Thunder', 'The Girl with the Dragon Tattoo', 'Die Hard: With a Vengeance', 'Sherlock Holmes', 'Ben-Hur', 'Atlantis: The Lost Empire', 'Alvin and the Chipmunks: The Road Chip', 'Valkyrie', \"You Don't Mess with the Zohan\", 'Pixels', 'A.I. Artificial Intelligence', 'The Haunted Mansion', 'Contact', 'Hollow Man', 'The Interpreter', 'Percy Jackson: Sea of Monsters', 'Lara Croft Tomb Raider: The Cradle of Life', 'Now You See Me 2', 'The Saint', 'Spy Game', 'Mission to Mars', 'Rio', 'Bicentennial Man', 'Volcano', \"The Devil's Own\", 'K-19: The Widowmaker', 'Conan the Barbarian', 'Cinderella Man', 'The Nutcracker: The Untold Story', 'Seabiscuit', 'Twister', 'Cast Away', 'Happy Feet', 'The Bourne Supremacy', 'Air Force One', \"Ocean's Eleven\", 'The Three Musketeers', 'Hotel Transylvania', 'Enchanted', 'Safe House', '102 Dalmatians', 'Tower Heist', 'The Holiday', 'Enemy of the State', \"It's Complicated\", \"Ocean's Thirteen\", 'Open Season', 'Divergent', 'Enemy at the Gates', 'The Rundown', 'Last Action Hero', 'Memoirs of a Geisha', 'The Fast and the Furious: Tokyo Drift', 'Arthur Christmas', 'Meet Joe Black', 'Collateral Damage', 'All That Jazz', 'Mirror Mirror', 'Scott Pilgrim vs. the World', 'The Core', 'Nutty Professor II: The Klumps', 'Scooby-Doo', 'Dredd', 'Click', 'Creepshow', 'Cats & Dogs 2 : The Revenge of Kitty Galore', 'Jumper', 'Hellboy II: The Golden Army', 'Zodiac', 'The 6th Day', 'Bruce Almighty', 'The Expendables', 'Mission: Impossible', 'The Hunger Games', 'The Hangover Part II', 'Batman Returns', 'Over the Hedge', 'Lilo & Stitch', \"Charlotte's Web\", 'Deep Impact', 'RED 2', 'The Longest Yard', 'Alvin and the Chipmunks: Chipwrecked', 'Grown Ups 2', 'Get Smart', \"Something's Gotta Give\", 'Shutter Island', 'Four Christmases', 'Robots', 'Face/Off', 'Bedtime Stories', 'Road to Perdition', 'Just Go with It', 'Con Air', 'Eagle Eye', 'Cold Mountain', 'The Book of Eli', 'Flubber', 'The Haunting', 'Space Jam', 'The Pink Panther', 'The Day the Earth Stood Still', 'Conspiracy Theory', 'Fury', 'Six Days Seven Nights', 'Yogi Bear', 'Spirit: Stallion of the Cimarron', 'Zookeeper', 'Lost in Space', 'The Manchurian Candidate', 'Déjà Vu', 'Hotel Transylvania 2', 'Fantasia 2000', 'The Time Machine', 'Mighty Joe Young', 'Swordfish', 'The Legend of Zorro', 'What Dreams May Come', 'Little Nicky', 'The Brothers Grimm', 'Mars Attacks!', 'Evolution', 'The Edge', 'Surrogates', 'Thirteen Days', 'Daylight', 'Walking With Dinosaurs', 'Battlefield Earth', 'Looney Tunes: Back in Action', 'Nine', 'Timeline', 'The Postman', 'Babe: Pig in the City', 'The Last Witch Hunter', 'Red Planet', 'Arthur and the Invisibles', 'Oceans', 'A Sound of Thunder', 'Pompeii', 'Top Cat Begins', 'A Beautiful Mind', 'The Lion King', 'Journey 2: The Mysterious Island', 'Cloudy with a Chance of Meatballs 2', 'Red Dragon', 'Hidalgo', 'Jack and Jill', '2 Fast 2 Furious', 'The Little Prince', 'The Invasion', 'The Adventures of Rocky & Bullwinkle', 'The Secret Life of Pets', 'The League of Extraordinary Gentlemen', 'Despicable Me 2', 'Independence Day', 'The Lost World: Jurassic Park', 'Madagascar', 'Children of Men', 'X-Men', 'Wanted', 'The Rock', 'Ice Age: The Meltdown', '50 First Dates', 'Hairspray', 'Exorcist: The Beginning', 'Inspector Gadget', 'Now You See Me', 'Grown Ups', 'The Terminal', 'Hotel for Dogs', 'Vertical Limit', \"Charlie Wilson's War\", 'Shark Tale', 'Dreamgirls', 'Be Cool', 'Munich', 'Tears of the Sun', 'Killers', 'The Man from U.N.C.L.E.', 'Spanglish']\n",
            "['Tangled']\n",
            "Tangled\n",
            "6\n",
            "[(0, 0.0), (1, 0.0), (2, 0.0), (3, 0.0), (4, 0.0), (5, 0.0), (6, 1.0), (7, 0.0), (8, 0.497443714570822), (9, 0.0), (10, 0.0), (11, 0.0), (12, 0.0), (13, 0.0), (14, 0.0), (15, 0.0), (16, 0.0), (17, 0.0), (18, 0.0), (19, 0.0), (20, 0.0), (21, 0.0), (22, 0.0), (23, 0.0), (24, 0.0), (25, 0.0), (26, 0.0), (27, 0.0), (28, 0.0), (29, 0.0), (30, 0.0), (31, 0.0), (32, 0.0), (33, 0.0), (34, 1.0), (35, 0.0), (36, 0.0), (37, 0.497443714570822), (38, 0.0), (39, 0.0), (40, 0.325061417158757), (41, 0.0), (42, 0.34280743563328775), (43, 0.0), (44, 0.0), (45, 0.0), (46, 0.0), (47, 0.0), (48, 0.0), (49, 0.0), (50, 0.0), (51, 0.0), (52, 0.0), (53, 0.0), (54, 0.9140795464074283), (55, 0.2936133857231882), (56, 0.0), (57, 1.0), (58, 0.0), (59, 0.0), (60, 0.3979828884861345), (61, 0.0), (62, 0.0), (63, 0.0), (64, 0.0), (65, 0.0), (66, 0.31849084238188685), (67, 0.326060409029431), (68, 0.0), (69, 0.5019687461008918), (70, 0.0), (71, 0.0), (72, 0.0), (73, 0.46392237624149907), (74, 0.0), (75, 0.0), (76, 0.0), (77, 0.7418468485902902), (78, 0.0), (79, 0.0), (80, 0.0), (81, 0.0), (82, 0.0), (83, 0.0), (84, 0.0), (85, 0.0), (86, 0.7009114986776869), (87, 0.0), (88, 0.3113098743084591), (89, 0.31849084238188685), (90, 0.33796151425268045), (91, 0.0), (92, 0.7765328415749111), (93, 0.0), (94, 0.0), (95, 0.0), (96, 0.0), (97, 0.0), (98, 0.0), (99, 0.0), (100, 0.0), (101, 0.0), (102, 0.0), (103, 0.0), (104, 0.0), (105, 0.0), (106, 0.7009114986776869), (107, 0.0), (108, 0.0), (109, 0.0), (110, 0.0), (111, 0.0), (112, 0.0), (113, 0.0), (114, 0.497443714570822), (115, 0.0), (116, 0.0), (117, 0.0), (118, 0.3222524034752037), (119, 0.0), (120, 0.0), (121, 0.4117556285160283), (122, 0.0), (123, 0.0), (124, 0.9140795464074283), (125, 0.0), (126, 0.0), (127, 0.0), (128, 0.0), (129, 0.0), (130, 0.325061417158757), (131, 0.0), (132, 0.0), (133, 0.0), (134, 0.0), (135, 0.0), (136, 0.325061417158757), (137, 1.0), (138, 0.0), (139, 0.0), (140, 0.0), (141, 0.9140795464074283), (142, 0.7970785459316234), (143, 0.0), (144, 0.9140795464074283), (145, 0.0), (146, 1.0), (147, 0.0), (148, 0.0), (149, 0.0), (150, 0.0), (151, 0.0), (152, 0.7558853174341218), (153, 0.0), (154, 0.8271705824374829), (155, 0.0), (156, 0.0), (157, 0.0), (158, 0.0), (159, 0.0), (160, 0.3153829411648111), (161, 0.0), (162, 0.0), (163, 0.0), (164, 0.0), (165, 0.0), (166, 0.0), (167, 0.0), (168, 0.3162950837524603), (169, 0.0), (170, 0.0), (171, 0.0), (172, 0.0), (173, 0.8521381516895662), (174, 0.0), (175, 0.0), (176, 0.0), (177, 1.0), (178, 0.23331680064168012), (179, 0.325061417158757), (180, 0.0), (181, 0.325061417158757), (182, 0.0), (183, 0.0), (184, 0.6026015446687487), (185, 0.0), (186, 0.0), (187, 0.3225847722117256), (188, 0.0), (189, 0.0), (190, 0.34866127808570646), (191, 0.497443714570822), (192, 0.0), (193, 0.0), (194, 1.0), (195, 0.43409230177180186), (196, 0.2996788262051202), (197, 0.497443714570822), (198, 0.0), (199, 0.0), (200, 0.0), (201, 0.0), (202, 0.7970785459316234), (203, 0.0), (204, 0.0), (205, 0.0), (206, 0.0), (207, 0.0), (208, 0.0), (209, 0.0), (210, 0.0), (211, 0.0), (212, 0.0), (213, 0.0), (214, 0.0), (215, 0.0), (216, 0.0), (217, 0.0), (218, 0.0), (219, 0.0), (220, 0.0), (221, 0.325061417158757), (222, 0.0), (223, 0.0), (224, 0.0), (225, 0.0), (226, 0.0), (227, 0.0), (228, 0.0), (229, 0.0), (230, 0.0), (231, 0.8521381516895662), (232, 0.0), (233, 0.0), (234, 0.30737884743749433), (235, 0.43409230177180186), (236, 0.0), (237, 0.0), (238, 0.0), (239, 0.0), (240, 0.0), (241, 0.0), (242, 0.0), (243, 0.0), (244, 0.0), (245, 0.0), (246, 0.0), (247, 0.0), (248, 0.0), (249, 0.0), (250, 0.0), (251, 0.0), (252, 0.0), (253, 0.0), (254, 0.30737884743749433), (255, 1.0), (256, 0.0), (257, 0.0), (258, 0.0), (259, 0.0), (260, 0.0), (261, 0.0), (262, 0.0), (263, 0.0), (264, 0.0), (265, 0.46392237624149907), (266, 0.0), (267, 0.0), (268, 0.30503249359275125), (269, 0.2192489146648708), (270, 0.0), (271, 0.0), (272, 0.0), (273, 0.0), (274, 0.0), (275, 0.0), (276, 0.497443714570822), (277, 0.0), (278, 0.0), (279, 0.0), (280, 0.0), (281, 0.0), (282, 0.0), (283, 0.0), (284, 0.0), (285, 0.0), (286, 0.0), (287, 0.0), (288, 0.8333555269649027), (289, 0.30737884743749433), (290, 0.0), (291, 0.0), (292, 0.4646090995235864), (293, 0.0), (294, 0.33796151425268045), (295, 0.0), (296, 0.0), (297, 0.0), (298, 0.0), (299, 0.0), (300, 0.0), (301, 0.0), (302, 0.33796151425268045), (303, 0.0), (304, 0.0), (305, 0.2930539287966764), (306, 0.0), (307, 0.0), (308, 0.0), (309, 0.0), (310, 0.0), (311, 0.0), (312, 0.0), (313, 0.0), (314, 0.0), (315, 0.0), (316, 0.0), (317, 0.0), (318, 0.8521381516895662), (319, 0.0), (320, 0.0), (321, 0.0), (322, 0.0), (323, 0.0), (324, 0.7970785459316234), (325, 0.7970785459316234), (326, 0.0), (327, 0.0), (328, 1.0), (329, 0.0), (330, 0.0), (331, 0.0), (332, 0.0), (333, 0.0), (334, 0.0), (335, 0.0), (336, 0.0), (337, 0.0), (338, 0.0), (339, 0.8534063484473482), (340, 0.0), (341, 0.497443714570822), (342, 0.0), (343, 0.8521381516895662), (344, 0.0), (345, 0.0), (346, 0.0), (347, 0.8521381516895662), (348, 0.31849084238188685), (349, 0.0), (350, 0.0), (351, 0.0), (352, 0.35290272917747567), (353, 0.0), (354, 0.0), (355, 0.0), (356, 0.0), (357, 0.0), (358, 0.326060409029431), (359, 0.7970785459316234), (360, 0.0), (361, 0.0), (362, 0.0), (363, 0.0), (364, 0.0), (365, 0.0), (366, 0.0), (367, 0.0), (368, 0.0), (369, 0.0), (370, 0.0), (371, 0.0), (372, 0.0), (373, 0.0), (374, 0.7970785459316234), (375, 0.0), (376, 0.0), (377, 0.0), (378, 0.0), (379, 0.0), (380, 0.0), (381, 0.5017540515323428), (382, 0.0), (383, 0.0), (384, 0.0), (385, 0.40802674589768806), (386, 0.0), (387, 0.0), (388, 0.0), (389, 0.0), (390, 0.3222524034752037), (391, 0.0), (392, 0.0), (393, 0.5681907695902988), (394, 0.0), (395, 0.0), (396, 0.0), (397, 0.0), (398, 0.0), (399, 0.9140795464074283), (400, 0.0), (401, 0.0), (402, 0.0), (403, 0.4117556285160283), (404, 0.0), (405, 0.0), (406, 0.30653080471980476), (407, 0.0), (408, 0.0), (409, 0.0), (410, 0.0), (411, 0.0), (412, 0.0), (413, 0.0), (414, 0.0), (415, 0.0), (416, 0.0), (417, 0.0), (418, 0.5681907695902988), (419, 0.0), (420, 0.0), (421, 0.0), (422, 0.0), (423, 0.0), (424, 0.0), (425, 0.0), (426, 0.0), (427, 0.0), (428, 0.0), (429, 0.8521381516895662), (430, 1.0), (431, 0.0), (432, 0.0), (433, 0.0), (434, 0.0), (435, 0.0), (436, 0.0), (437, 0.0), (438, 0.0), (439, 0.0), (440, 0.0), (441, 0.31188574976598793), (442, 0.0), (443, 0.0), (444, 0.0), (445, 0.0), (446, 0.0), (447, 0.0), (448, 0.0), (449, 0.0), (450, 0.0), (451, 0.0), (452, 0.29157029826019737), (453, 0.3135704878027751), (454, 0.0), (455, 0.0), (456, 0.0), (457, 0.0), (458, 0.31849084238188685), (459, 0.5480611500579347), (460, 0.3664925452288483), (461, 0.0), (462, 0.0), (463, 0.0), (464, 0.8521381516895662), (465, 0.26242692032760334), (466, 0.0), (467, 0.0), (468, 0.0), (469, 0.0), (470, 0.0), (471, 0.0), (472, 0.0), (473, 0.0), (474, 0.0), (475, 0.0), (476, 0.0), (477, 0.0), (478, 0.0), (479, 0.35290272917747567), (480, 0.0), (481, 0.8521381516895662), (482, 0.0), (483, 0.0), (484, 0.0), (485, 0.0), (486, 0.0), (487, 0.0), (488, 0.7765328415749111), (489, 0.311345675136183), (490, 0.0), (491, 0.0), (492, 0.0), (493, 0.0), (494, 0.3367860808536687), (495, 0.0), (496, 0.34280743563328775), (497, 0.0), (498, 0.0), (499, 0.0), (500, 0.0), (501, 0.39992660249642614), (502, 0.0), (503, 0.7558853174341218), (504, 1.0), (505, 0.0), (506, 0.8521381516895662), (507, 0.0), (508, 0.0), (509, 0.0), (510, 0.0), (511, 0.0), (512, 0.0), (513, 0.0), (514, 0.31849084238188685), (515, 0.0), (516, 0.0), (517, 0.0), (518, 0.47949642425387456), (519, 0.0), (520, 0.0), (521, 0.0), (522, 0.5681907695902988), (523, 0.0), (524, 0.0), (525, 0.8023467314776825), (526, 0.0), (527, 0.0), (528, 0.0), (529, 0.0), (530, 0.0), (531, 0.0), (532, 0.0)]\n",
            "[(6, 1.0), (34, 1.0), (57, 1.0), (137, 1.0), (146, 1.0), (177, 1.0), (194, 1.0), (255, 1.0), (328, 1.0), (430, 1.0), (504, 1.0), (54, 0.9140795464074283), (124, 0.9140795464074283), (141, 0.9140795464074283), (144, 0.9140795464074283), (399, 0.9140795464074283), (339, 0.8534063484473482), (173, 0.8521381516895662), (231, 0.8521381516895662), (318, 0.8521381516895662), (343, 0.8521381516895662), (347, 0.8521381516895662), (429, 0.8521381516895662), (464, 0.8521381516895662), (481, 0.8521381516895662), (506, 0.8521381516895662), (288, 0.8333555269649027), (154, 0.8271705824374829), (525, 0.8023467314776825), (142, 0.7970785459316234), (202, 0.7970785459316234), (324, 0.7970785459316234), (325, 0.7970785459316234), (359, 0.7970785459316234), (374, 0.7970785459316234), (92, 0.7765328415749111), (488, 0.7765328415749111), (152, 0.7558853174341218), (503, 0.7558853174341218), (77, 0.7418468485902902), (86, 0.7009114986776869), (106, 0.7009114986776869), (184, 0.6026015446687487), (393, 0.5681907695902988), (418, 0.5681907695902988), (522, 0.5681907695902988), (459, 0.5480611500579347), (69, 0.5019687461008918), (381, 0.5017540515323428), (8, 0.497443714570822), (37, 0.497443714570822), (114, 0.497443714570822), (191, 0.497443714570822), (197, 0.497443714570822), (276, 0.497443714570822), (341, 0.497443714570822), (518, 0.47949642425387456), (292, 0.4646090995235864), (73, 0.46392237624149907), (265, 0.46392237624149907), (195, 0.43409230177180186), (235, 0.43409230177180186), (121, 0.4117556285160283), (403, 0.4117556285160283), (385, 0.40802674589768806), (501, 0.39992660249642614), (60, 0.3979828884861345), (460, 0.3664925452288483), (352, 0.35290272917747567), (479, 0.35290272917747567), (190, 0.34866127808570646), (42, 0.34280743563328775), (496, 0.34280743563328775), (90, 0.33796151425268045), (294, 0.33796151425268045), (302, 0.33796151425268045), (494, 0.3367860808536687), (67, 0.326060409029431), (358, 0.326060409029431), (40, 0.325061417158757), (130, 0.325061417158757), (136, 0.325061417158757), (179, 0.325061417158757), (181, 0.325061417158757), (221, 0.325061417158757), (187, 0.3225847722117256), (118, 0.3222524034752037), (390, 0.3222524034752037), (66, 0.31849084238188685), (89, 0.31849084238188685), (348, 0.31849084238188685), (458, 0.31849084238188685), (514, 0.31849084238188685), (168, 0.3162950837524603), (160, 0.3153829411648111), (453, 0.3135704878027751), (441, 0.31188574976598793), (489, 0.311345675136183), (88, 0.3113098743084591), (234, 0.30737884743749433), (254, 0.30737884743749433), (289, 0.30737884743749433), (406, 0.30653080471980476), (268, 0.30503249359275125), (196, 0.2996788262051202), (55, 0.2936133857231882), (305, 0.2930539287966764), (452, 0.29157029826019737), (465, 0.26242692032760334), (178, 0.23331680064168012), (269, 0.2192489146648708), (0, 0.0), (1, 0.0), (2, 0.0), (3, 0.0), (4, 0.0), (5, 0.0), (7, 0.0), (9, 0.0), (10, 0.0), (11, 0.0), (12, 0.0), (13, 0.0), (14, 0.0), (15, 0.0), (16, 0.0), (17, 0.0), (18, 0.0), (19, 0.0), (20, 0.0), (21, 0.0), (22, 0.0), (23, 0.0), (24, 0.0), (25, 0.0), (26, 0.0), (27, 0.0), (28, 0.0), (29, 0.0), (30, 0.0), (31, 0.0), (32, 0.0), (33, 0.0), (35, 0.0), (36, 0.0), (38, 0.0), (39, 0.0), (41, 0.0), (43, 0.0), (44, 0.0), (45, 0.0), (46, 0.0), (47, 0.0), (48, 0.0), (49, 0.0), (50, 0.0), (51, 0.0), (52, 0.0), (53, 0.0), (56, 0.0), (58, 0.0), (59, 0.0), (61, 0.0), (62, 0.0), (63, 0.0), (64, 0.0), (65, 0.0), (68, 0.0), (70, 0.0), (71, 0.0), (72, 0.0), (74, 0.0), (75, 0.0), (76, 0.0), (78, 0.0), (79, 0.0), (80, 0.0), (81, 0.0), (82, 0.0), (83, 0.0), (84, 0.0), (85, 0.0), (87, 0.0), (91, 0.0), (93, 0.0), (94, 0.0), (95, 0.0), (96, 0.0), (97, 0.0), (98, 0.0), (99, 0.0), (100, 0.0), (101, 0.0), (102, 0.0), (103, 0.0), (104, 0.0), (105, 0.0), (107, 0.0), (108, 0.0), (109, 0.0), (110, 0.0), (111, 0.0), (112, 0.0), (113, 0.0), (115, 0.0), (116, 0.0), (117, 0.0), (119, 0.0), (120, 0.0), (122, 0.0), (123, 0.0), (125, 0.0), (126, 0.0), (127, 0.0), (128, 0.0), (129, 0.0), (131, 0.0), (132, 0.0), (133, 0.0), (134, 0.0), (135, 0.0), (138, 0.0), (139, 0.0), (140, 0.0), (143, 0.0), (145, 0.0), (147, 0.0), (148, 0.0), (149, 0.0), (150, 0.0), (151, 0.0), (153, 0.0), (155, 0.0), (156, 0.0), (157, 0.0), (158, 0.0), (159, 0.0), (161, 0.0), (162, 0.0), (163, 0.0), (164, 0.0), (165, 0.0), (166, 0.0), (167, 0.0), (169, 0.0), (170, 0.0), (171, 0.0), (172, 0.0), (174, 0.0), (175, 0.0), (176, 0.0), (180, 0.0), (182, 0.0), (183, 0.0), (185, 0.0), (186, 0.0), (188, 0.0), (189, 0.0), (192, 0.0), (193, 0.0), (198, 0.0), (199, 0.0), (200, 0.0), (201, 0.0), (203, 0.0), (204, 0.0), (205, 0.0), (206, 0.0), (207, 0.0), (208, 0.0), (209, 0.0), (210, 0.0), (211, 0.0), (212, 0.0), (213, 0.0), (214, 0.0), (215, 0.0), (216, 0.0), (217, 0.0), (218, 0.0), (219, 0.0), (220, 0.0), (222, 0.0), (223, 0.0), (224, 0.0), (225, 0.0), (226, 0.0), (227, 0.0), (228, 0.0), (229, 0.0), (230, 0.0), (232, 0.0), (233, 0.0), (236, 0.0), (237, 0.0), (238, 0.0), (239, 0.0), (240, 0.0), (241, 0.0), (242, 0.0), (243, 0.0), (244, 0.0), (245, 0.0), (246, 0.0), (247, 0.0), (248, 0.0), (249, 0.0), (250, 0.0), (251, 0.0), (252, 0.0), (253, 0.0), (256, 0.0), (257, 0.0), (258, 0.0), (259, 0.0), (260, 0.0), (261, 0.0), (262, 0.0), (263, 0.0), (264, 0.0), (266, 0.0), (267, 0.0), (270, 0.0), (271, 0.0), (272, 0.0), (273, 0.0), (274, 0.0), (275, 0.0), (277, 0.0), (278, 0.0), (279, 0.0), (280, 0.0), (281, 0.0), (282, 0.0), (283, 0.0), (284, 0.0), (285, 0.0), (286, 0.0), (287, 0.0), (290, 0.0), (291, 0.0), (293, 0.0), (295, 0.0), (296, 0.0), (297, 0.0), (298, 0.0), (299, 0.0), (300, 0.0), (301, 0.0), (303, 0.0), (304, 0.0), (306, 0.0), (307, 0.0), (308, 0.0), (309, 0.0), (310, 0.0), (311, 0.0), (312, 0.0), (313, 0.0), (314, 0.0), (315, 0.0), (316, 0.0), (317, 0.0), (319, 0.0), (320, 0.0), (321, 0.0), (322, 0.0), (323, 0.0), (326, 0.0), (327, 0.0), (329, 0.0), (330, 0.0), (331, 0.0), (332, 0.0), (333, 0.0), (334, 0.0), (335, 0.0), (336, 0.0), (337, 0.0), (338, 0.0), (340, 0.0), (342, 0.0), (344, 0.0), (345, 0.0), (346, 0.0), (349, 0.0), (350, 0.0), (351, 0.0), (353, 0.0), (354, 0.0), (355, 0.0), (356, 0.0), (357, 0.0), (360, 0.0), (361, 0.0), (362, 0.0), (363, 0.0), (364, 0.0), (365, 0.0), (366, 0.0), (367, 0.0), (368, 0.0), (369, 0.0), (370, 0.0), (371, 0.0), (372, 0.0), (373, 0.0), (375, 0.0), (376, 0.0), (377, 0.0), (378, 0.0), (379, 0.0), (380, 0.0), (382, 0.0), (383, 0.0), (384, 0.0), (386, 0.0), (387, 0.0), (388, 0.0), (389, 0.0), (391, 0.0), (392, 0.0), (394, 0.0), (395, 0.0), (396, 0.0), (397, 0.0), (398, 0.0), (400, 0.0), (401, 0.0), (402, 0.0), (404, 0.0), (405, 0.0), (407, 0.0), (408, 0.0), (409, 0.0), (410, 0.0), (411, 0.0), (412, 0.0), (413, 0.0), (414, 0.0), (415, 0.0), (416, 0.0), (417, 0.0), (419, 0.0), (420, 0.0), (421, 0.0), (422, 0.0), (423, 0.0), (424, 0.0), (425, 0.0), (426, 0.0), (427, 0.0), (428, 0.0), (431, 0.0), (432, 0.0), (433, 0.0), (434, 0.0), (435, 0.0), (436, 0.0), (437, 0.0), (438, 0.0), (439, 0.0), (440, 0.0), (442, 0.0), (443, 0.0), (444, 0.0), (445, 0.0), (446, 0.0), (447, 0.0), (448, 0.0), (449, 0.0), (450, 0.0), (451, 0.0), (454, 0.0), (455, 0.0), (456, 0.0), (457, 0.0), (461, 0.0), (462, 0.0), (463, 0.0), (466, 0.0), (467, 0.0), (468, 0.0), (469, 0.0), (470, 0.0), (471, 0.0), (472, 0.0), (473, 0.0), (474, 0.0), (475, 0.0), (476, 0.0), (477, 0.0), (478, 0.0), (480, 0.0), (482, 0.0), (483, 0.0), (484, 0.0), (485, 0.0), (486, 0.0), (487, 0.0), (490, 0.0), (491, 0.0), (492, 0.0), (493, 0.0), (495, 0.0), (497, 0.0), (498, 0.0), (499, 0.0), (500, 0.0), (502, 0.0), (505, 0.0), (507, 0.0), (508, 0.0), (509, 0.0), (510, 0.0), (511, 0.0), (512, 0.0), (513, 0.0), (515, 0.0), (516, 0.0), (517, 0.0), (519, 0.0), (520, 0.0), (521, 0.0), (523, 0.0), (524, 0.0), (526, 0.0), (527, 0.0), (528, 0.0), (529, 0.0), (530, 0.0), (531, 0.0), (532, 0.0)]\n",
            "Movies suggested for you: \n",
            "\n",
            "1 . Tangled\n",
            "2 . Monsters University\n",
            "3 . WALL·E\n",
            "4 . Kung Fu Panda 2\n",
            "5 . Madagascar 3: Europe's Most Wanted\n",
            "6 . Turbo\n",
            "7 . Dinosaur\n",
            "8 . Home on the Range\n",
            "9 . Finding Nemo\n",
            "10 . Lilo & Stitch\n",
            "11 . The Secret Life of Pets\n",
            "12 . The Good Dinosaur\n",
            "13 . Frozen\n",
            "14 . Mars Needs Moms\n",
            "15 . Mr. Peabody & Sherman\n",
            "16 . Open Season\n",
            "17 . The Incredibles\n",
            "18 . Happy Feet Two\n",
            "19 . Monsters, Inc.\n",
            "20 . Surf's Up\n",
            "21 . Toy Story 2\n",
            "22 . Cloudy with a Chance of Meatballs\n",
            "23 . Over the Hedge\n",
            "24 . Hotel Transylvania 2\n",
            "25 . Looney Tunes: Back in Action\n",
            "26 . Despicable Me 2\n",
            "27 . The Hunchback of Notre Dame\n",
            "28 . Rise of the Guardians\n",
            "29 . Shark Tale\n"
          ]
        }
      ]
    },
    {
      "cell_type": "code",
      "source": [],
      "metadata": {
        "id": "g91zUCRL7-9q"
      },
      "execution_count": null,
      "outputs": []
    }
  ]
}