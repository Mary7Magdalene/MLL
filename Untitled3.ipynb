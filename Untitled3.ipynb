{
  "nbformat": 4,
  "nbformat_minor": 0,
  "metadata": {
    "colab": {
      "provenance": [],
      "authorship_tag": "ABX9TyO1PilZzecMul67A0d2wBX0",
      "include_colab_link": true
    },
    "kernelspec": {
      "name": "python3",
      "display_name": "Python 3"
    },
    "language_info": {
      "name": "python"
    }
  },
  "cells": [
    {
      "cell_type": "markdown",
      "metadata": {
        "id": "view-in-github",
        "colab_type": "text"
      },
      "source": [
        "<a href=\"https://colab.research.google.com/github/Mary7Magdalene/MLL/blob/main/Untitled3.ipynb\" target=\"_parent\"><img src=\"https://colab.research.google.com/assets/colab-badge.svg\" alt=\"Open In Colab\"/></a>"
      ]
    },
    {
      "cell_type": "markdown",
      "source": [
        "Separating the feature columns from target column\n"
      ],
      "metadata": {
        "id": "azWkaOwDRh-T"
      }
    },
    {
      "cell_type": "code",
      "execution_count": null,
      "metadata": {
        "id": "ciB5-lEXJgFm"
      },
      "outputs": [],
      "source": []
    },
    {
      "cell_type": "code",
      "source": [
        "import pandas as pd\n",
        "df=pd.read_csv('/content/decision.csv')\n",
        "d = {'UK': 0, 'USA': 1, 'N': 2}\n",
        "df['Nationality'] = df['Nationality'].map(d)\n",
        "d = {'YES': 1, 'NO': 0}\n",
        "df['Go'] = df['Go'].map(d)\n",
        "\n",
        "features = ['Age', 'Experience', 'Rank', 'Nationality']\n",
        "\n",
        "X = df[features]\n",
        "y = df['Go']\n",
        "\n",
        "print(X)\n",
        "print(y)\n"
      ],
      "metadata": {
        "colab": {
          "base_uri": "https://localhost:8080/"
        },
        "id": "r4n57-QAKbPg",
        "outputId": "551abd21-1d43-49dd-d4c3-0f3a08a50737"
      },
      "execution_count": null,
      "outputs": [
        {
          "output_type": "stream",
          "name": "stdout",
          "text": [
            "    Age  Experience  Rank  Nationality\n",
            "0    36          10     9            0\n",
            "1    42          12     4            1\n",
            "2    23           4     6            2\n",
            "3    52           4     4            1\n",
            "4    43          21     8            1\n",
            "5    44          14     5            0\n",
            "6    66           3     7            2\n",
            "7    35          14     9            0\n",
            "8    52          13     7            2\n",
            "9    35           5     9            2\n",
            "10   24           3     5            1\n",
            "11   18           3     7            0\n",
            "12   45           9     9            0\n",
            "0     0\n",
            "1     0\n",
            "2     0\n",
            "3     0\n",
            "4     1\n",
            "5     0\n",
            "6     1\n",
            "7     1\n",
            "8     1\n",
            "9     1\n",
            "10    0\n",
            "11    1\n",
            "12    1\n",
            "Name: Go, dtype: int64\n"
          ]
        }
      ]
    },
    {
      "cell_type": "markdown",
      "source": [
        "separating of feature columns and target columns"
      ],
      "metadata": {
        "id": "HgRbHn4dMk0E"
      }
    },
    {
      "cell_type": "markdown",
      "source": [
        "Construxting a decision tree"
      ],
      "metadata": {
        "id": "UBewqdZHTNfZ"
      }
    },
    {
      "cell_type": "code",
      "source": [
        "import pandas\n",
        "from sklearn import tree\n",
        "from sklearn.tree import DecisionTreeClassifier\n",
        "import matplotlib.pyplot as plt\n",
        "\n",
        "df = pandas.read_csv(\"/content/decision.csv\")\n",
        "\n",
        "d = {'UK': 0, 'USA': 1, 'N': 2}\n",
        "df['Nationality'] = df['Nationality'].map(d)\n",
        "d = {'YES': 1, 'NO': 0}\n",
        "df['Go'] = df['Go'].map(d)\n",
        "\n",
        "features = ['Age', 'Experience', 'Rank', 'Nationality']\n",
        "\n",
        "X = df[features]\n",
        "y = df['Go']\n",
        "\n",
        "dtree = DecisionTreeClassifier()\n",
        "dtree = dtree.fit(X, y)\n",
        "\n",
        "tree.plot_tree(dtree, feature_names=features)\n",
        "\n"
      ],
      "metadata": {
        "colab": {
          "base_uri": "https://localhost:8080/",
          "height": 603
        },
        "id": "8JgvOplbMLmj",
        "outputId": "495c0989-8475-46ca-c2f3-96b642483fc5"
      },
      "execution_count": null,
      "outputs": [
        {
          "output_type": "execute_result",
          "data": {
            "text/plain": [
              "[Text(0.2857142857142857, 0.9, 'Rank <= 6.5\\ngini = 0.497\\nsamples = 13\\nvalue = [6, 7]'),\n",
              " Text(0.14285714285714285, 0.7, 'gini = 0.0\\nsamples = 5\\nvalue = [5, 0]'),\n",
              " Text(0.21428571428571427, 0.8, 'True  '),\n",
              " Text(0.42857142857142855, 0.7, 'Rank <= 8.5\\ngini = 0.219\\nsamples = 8\\nvalue = [1, 7]'),\n",
              " Text(0.3571428571428571, 0.8, '  False'),\n",
              " Text(0.2857142857142857, 0.5, 'gini = 0.0\\nsamples = 4\\nvalue = [0, 4]'),\n",
              " Text(0.5714285714285714, 0.5, 'Age <= 35.5\\ngini = 0.375\\nsamples = 4\\nvalue = [1, 3]'),\n",
              " Text(0.42857142857142855, 0.3, 'gini = 0.0\\nsamples = 2\\nvalue = [0, 2]'),\n",
              " Text(0.7142857142857143, 0.3, 'Age <= 40.5\\ngini = 0.5\\nsamples = 2\\nvalue = [1, 1]'),\n",
              " Text(0.5714285714285714, 0.1, 'gini = 0.0\\nsamples = 1\\nvalue = [1, 0]'),\n",
              " Text(0.8571428571428571, 0.1, 'gini = 0.0\\nsamples = 1\\nvalue = [0, 1]')]"
            ]
          },
          "metadata": {},
          "execution_count": 35
        },
        {
          "output_type": "display_data",
          "data": {
            "text/plain": [
              "<Figure size 640x480 with 1 Axes>"
            ],
            "image/png": "[encoded data removed]"
          },
          "metadata": {}
        }
      ]
    },
    {
      "cell_type": "markdown",
      "source": [
        "ank <= 6.5 means that every comedian with a rank of 6.5 or lower will follow the True arrow (to the left), and the rest will follow the False arrow (to the right).\n",
        "\n",
        "gini = 0.497 refers to the quality of the split, and is always a number between 0.0 and 0.5, where 0.0 would mean all of the samples got the same result, and 0.5 would mean that the split is done exactly in the middle.\n",
        "\n",
        "samples = 13 means that there are 13 comedians left at this point in the decision, which is all of them since this is the first step.\n",
        "\n",
        "value = [6, 7] means that of these 13 comedians, 6 will get a \"NO\", and 7 will get a \"GO\".\n",
        "Gini\n",
        "\n",
        "There are many ways to split the samples, we use the GINI method in this tutorial.\n",
        "\n",
        "The Gini method uses this formula:\n",
        "\n",
        "Gini = 1 - (x/n)2 - (y/n)2\n",
        "\n",
        "Where x is the number of positive answers(\"GO\"), n is the number of samples, and y is the number of negative answers (\"NO\"), which gives us this calculation:\n",
        "\n",
        "1 - (7 / 13)2 - (6 / 13)2 = 0.497\n",
        "\n",
        "The next step contains two boxes, one box for the comedians with a 'Rank' of 6.5 or lower, and one box with the rest.\n",
        "True - 5 Comedians End Here:\n",
        "\n",
        "gini = 0.0 means all of the samples got the same result.\n",
        "\n",
        "samples = 5 means that there are 5 comedians left in this branch (5 comedian with a Rank of 6.5 or lower).\n",
        "\n",
        "value = [5, 0] means that 5 will get a \"NO\" and 0 will get a \"GO\".\n",
        "False - 8 Comedians Continue:\n",
        "Nationality\n",
        "\n",
        "Nationality <= 0.5 means that the comedians with a nationality value of less than 0.5 will follow the arrow to the left (which means everyone from the UK, ), and the rest will follow the arrow to the right.\n",
        "\n",
        "gini = 0.219 means that about 22% of the samples would go in one direction.\n",
        "\n",
        "samples = 8 means that there are 8 comedians left in this branch (8 comedian with a Rank higher than 6.5).\n",
        "\n",
        "value = [1, 7] means that of these 8 comedians, 1 will get a \"NO\" and 7 will get a \"GO\".\n",
        "\n",
        "\n",
        "True - 4 Comedians Continue:\n",
        "Age\n",
        "\n",
        "Age <= 35.5 means that comedians at the age of 35.5 or younger will follow the arrow to the left, and the rest will follow the arrow to the right.\n",
        "\n",
        "gini = 0.375 means that about 37,5% of the samples would go in one direction.\n",
        "\n",
        "samples = 4 means that there are 4 comedians left in this branch (4 comedians from the UK).\n",
        "\n",
        "value = [1, 3] means that of these 4 comedians, 1 will get a \"NO\" and 3 will get a \"GO\".\n",
        "False - 4 Comedians End Here:\n",
        "\n",
        "gini = 0.0 means all of the samples got the same result.\n",
        "\n",
        "samples = 4 means that there are 4 comedians left in this branch (4 comedians not from the UK).\n",
        "\n",
        "value = [0, 4] means that of these 4 comedians, 0 will get a \"NO\" and 4 will get a \"GO\".\n",
        "\n",
        "\n",
        "True - 2 Comedians End Here:\n",
        "\n",
        "gini = 0.0 means all of the samples got the same result.\n",
        "\n",
        "samples = 2 means that there are 2 comedians left in this branch (2 comedians at the age 35.5 or younger).\n",
        "\n",
        "value = [0, 2] means that of these 2 comedians, 0 will get a \"NO\" and 2 will get a \"GO\".\n",
        "False - 2 Comedians Continue:\n",
        "Experience\n",
        "\n",
        "Experience <= 9.5 means that comedians with 9.5 years of experience, or less, will follow the arrow to the left, and the rest will follow the arrow to the right.\n",
        "\n",
        "gini = 0.5 means that 50% of the samples would go in one direction.\n",
        "\n",
        "samples = 2 means that there are 2 comedians left in this branch (2 comedians older than 35.5).\n",
        "\n",
        "value = [1, 1] means that of these 2 comedians, 1 will get a \"NO\" and 1 will get a \"GO\".\n",
        "\n",
        "\n",
        "True - 1 Comedian Ends Here:\n",
        "\n",
        "gini = 0.0 means all of the samples got the same result.\n",
        "\n",
        "samples = 1 means that there is 1 comedian left in this branch (1 comedian with 9.5 years of experience or less).\n",
        "\n",
        "value = [0, 1] means that 0 will get a \"NO\" and 1 will get a \"GO\".\n",
        "False - 1 Comedian Ends Here:\n",
        "\n",
        "gini = 0.0 means all of the samples got the same result.\n",
        "\n",
        "samples = 1 means that there is 1 comedians left in this branch (1 comedian with more than 9.5 years of experience).\n",
        "\n",
        "value = [1, 0] means that 1 will get a \"NO\" and 0 will get a \"GO\".\n",
        "Predict Values\n",
        "\n",
        "We can use the Decision Tree to predict new values.\n",
        "\n",
        "Example: Should I go see a show starring a 40 years old American comedian, with 10 years of experience, and a comedy ranking of 7?"
      ],
      "metadata": {
        "id": "-gw45bukddSe"
      }
    },
    {
      "cell_type": "markdown",
      "source": [],
      "metadata": {
        "id": "Ju1SiJT2dcPy"
      }
    },
    {
      "cell_type": "code",
      "source": [],
      "metadata": {
        "id": "mjRsffvbNAUt"
      },
      "execution_count": null,
      "outputs": []
    }
  ]
}